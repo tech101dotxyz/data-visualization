{
  "cells": [
    {
      "cell_type": "markdown",
      "metadata": {
        "id": "rtzKI7Z8KFJy"
      },
      "source": [
        "# COVID-19 Vaccination Data Analysis\n",
        "\n"
      ]
    },
    {
      "cell_type": "markdown",
      "metadata": {
        "id": "LlyWW6dQc6xt"
      },
      "source": [
        "### First Class Started.This project is supposed to be completed in 2 classes. \n"
      ]
    },
    {
      "cell_type": "markdown",
      "metadata": {
        "id": "MMBgDe7hKFJ5"
      },
      "source": [
        "## Data Preparation and Cleaning\n",
        "\n",
        "\n"
      ]
    },
    {
      "cell_type": "markdown",
      "metadata": {
        "id": "Ytnk1yQLKFJ5"
      },
      "source": [
        "> - Load the dataset into a data frame using Pandas\n",
        "> - Explore the number of rows & columns, ranges of values etc.\n",
        "> - Handle missing, incorrect and invalid data"
      ]
    },
    {
      "cell_type": "code",
      "execution_count": null,
      "metadata": {
        "execution": {
          "iopub.execute_input": "2021-07-19T07:46:46.212791Z",
          "iopub.status.busy": "2021-07-19T07:46:46.212252Z",
          "iopub.status.idle": "2021-07-19T07:46:46.226666Z",
          "shell.execute_reply": "2021-07-19T07:46:46.225384Z",
          "shell.execute_reply.started": "2021-07-19T07:46:46.212640Z"
        },
        "id": "-zRlXo1NKFJ5",
        "trusted": true
      },
      "outputs": [],
      "source": [
        "import pandas as pd"
      ]
    },
    {
      "cell_type": "code",
      "execution_count": null,
      "metadata": {
        "colab": {
          "base_uri": "https://localhost:8080/"
        },
        "id": "zOubNW3pukGI",
        "outputId": "a242bac5-0970-4419-b455-52e761f246ca"
      },
      "outputs": [
        {
          "name": "stdout",
          "output_type": "stream",
          "text": [
            "Drive already mounted at /content/drive; to attempt to forcibly remount, call drive.mount(\"/content/drive\", force_remount=True).\n"
          ]
        }
      ],
      "source": [
        "from google.colab import drive\n",
        "drive.mount('/content/drive')"
      ]
    },
    {
      "cell_type": "code",
      "execution_count": null,
      "metadata": {
        "execution": {
          "iopub.execute_input": "2021-07-19T07:46:46.229490Z",
          "iopub.status.busy": "2021-07-19T07:46:46.228985Z",
          "iopub.status.idle": "2021-07-19T07:46:46.444716Z",
          "shell.execute_reply": "2021-07-19T07:46:46.442712Z",
          "shell.execute_reply.started": "2021-07-19T07:46:46.229438Z"
        },
        "id": "75UhJLpIKFJ5",
        "trusted": true
      },
      "outputs": [],
      "source": [
        "vaccinations_df = pd.read_csv('/content/drive/MyDrive/Dataset/country_vaccinations.csv')"
      ]
    },
    {
      "cell_type": "code",
      "execution_count": null,
      "metadata": {
        "colab": {
          "base_uri": "https://localhost:8080/",
          "height": 686
        },
        "execution": {
          "iopub.execute_input": "2021-07-19T07:46:46.449652Z",
          "iopub.status.busy": "2021-07-19T07:46:46.449023Z",
          "iopub.status.idle": "2021-07-19T07:46:46.525954Z",
          "shell.execute_reply": "2021-07-19T07:46:46.524871Z",
          "shell.execute_reply.started": "2021-07-19T07:46:46.449611Z"
        },
        "id": "MNRYARTUKFJ5",
        "outputId": "0ef26e88-da6f-4035-b45f-420a274c81c0",
        "trusted": true
      },
      "outputs": [
        {
          "data": {
            "text/html": [
              "<div>\n",
              "<style scoped>\n",
              "    .dataframe tbody tr th:only-of-type {\n",
              "        vertical-align: middle;\n",
              "    }\n",
              "\n",
              "    .dataframe tbody tr th {\n",
              "        vertical-align: top;\n",
              "    }\n",
              "\n",
              "    .dataframe thead th {\n",
              "        text-align: right;\n",
              "    }\n",
              "</style>\n",
              "<table border=\"1\" class=\"dataframe\">\n",
              "  <thead>\n",
              "    <tr style=\"text-align: right;\">\n",
              "      <th></th>\n",
              "      <th>country</th>\n",
              "      <th>iso_code</th>\n",
              "      <th>date</th>\n",
              "      <th>total_vaccinations</th>\n",
              "      <th>people_vaccinated</th>\n",
              "      <th>people_fully_vaccinated</th>\n",
              "      <th>daily_vaccinations_raw</th>\n",
              "      <th>daily_vaccinations</th>\n",
              "      <th>total_vaccinations_per_hundred</th>\n",
              "      <th>people_vaccinated_per_hundred</th>\n",
              "      <th>people_fully_vaccinated_per_hundred</th>\n",
              "      <th>daily_vaccinations_per_million</th>\n",
              "      <th>vaccines</th>\n",
              "      <th>source_name</th>\n",
              "      <th>source_website</th>\n",
              "    </tr>\n",
              "  </thead>\n",
              "  <tbody>\n",
              "    <tr>\n",
              "      <th>0</th>\n",
              "      <td>Afghanistan</td>\n",
              "      <td>AFG</td>\n",
              "      <td>2021-02-22</td>\n",
              "      <td>0.0</td>\n",
              "      <td>0.0</td>\n",
              "      <td>NaN</td>\n",
              "      <td>NaN</td>\n",
              "      <td>NaN</td>\n",
              "      <td>0.00</td>\n",
              "      <td>0.00</td>\n",
              "      <td>NaN</td>\n",
              "      <td>NaN</td>\n",
              "      <td>Johnson&amp;Johnson, Oxford/AstraZeneca, Pfizer/Bi...</td>\n",
              "      <td>World Health Organization</td>\n",
              "      <td>https://covid19.who.int/</td>\n",
              "    </tr>\n",
              "    <tr>\n",
              "      <th>1</th>\n",
              "      <td>Afghanistan</td>\n",
              "      <td>AFG</td>\n",
              "      <td>2021-02-23</td>\n",
              "      <td>NaN</td>\n",
              "      <td>NaN</td>\n",
              "      <td>NaN</td>\n",
              "      <td>NaN</td>\n",
              "      <td>1367.0</td>\n",
              "      <td>NaN</td>\n",
              "      <td>NaN</td>\n",
              "      <td>NaN</td>\n",
              "      <td>35.0</td>\n",
              "      <td>Johnson&amp;Johnson, Oxford/AstraZeneca, Pfizer/Bi...</td>\n",
              "      <td>World Health Organization</td>\n",
              "      <td>https://covid19.who.int/</td>\n",
              "    </tr>\n",
              "    <tr>\n",
              "      <th>2</th>\n",
              "      <td>Afghanistan</td>\n",
              "      <td>AFG</td>\n",
              "      <td>2021-02-24</td>\n",
              "      <td>NaN</td>\n",
              "      <td>NaN</td>\n",
              "      <td>NaN</td>\n",
              "      <td>NaN</td>\n",
              "      <td>1367.0</td>\n",
              "      <td>NaN</td>\n",
              "      <td>NaN</td>\n",
              "      <td>NaN</td>\n",
              "      <td>35.0</td>\n",
              "      <td>Johnson&amp;Johnson, Oxford/AstraZeneca, Pfizer/Bi...</td>\n",
              "      <td>World Health Organization</td>\n",
              "      <td>https://covid19.who.int/</td>\n",
              "    </tr>\n",
              "    <tr>\n",
              "      <th>3</th>\n",
              "      <td>Afghanistan</td>\n",
              "      <td>AFG</td>\n",
              "      <td>2021-02-25</td>\n",
              "      <td>NaN</td>\n",
              "      <td>NaN</td>\n",
              "      <td>NaN</td>\n",
              "      <td>NaN</td>\n",
              "      <td>1367.0</td>\n",
              "      <td>NaN</td>\n",
              "      <td>NaN</td>\n",
              "      <td>NaN</td>\n",
              "      <td>35.0</td>\n",
              "      <td>Johnson&amp;Johnson, Oxford/AstraZeneca, Pfizer/Bi...</td>\n",
              "      <td>World Health Organization</td>\n",
              "      <td>https://covid19.who.int/</td>\n",
              "    </tr>\n",
              "    <tr>\n",
              "      <th>4</th>\n",
              "      <td>Afghanistan</td>\n",
              "      <td>AFG</td>\n",
              "      <td>2021-02-26</td>\n",
              "      <td>NaN</td>\n",
              "      <td>NaN</td>\n",
              "      <td>NaN</td>\n",
              "      <td>NaN</td>\n",
              "      <td>1367.0</td>\n",
              "      <td>NaN</td>\n",
              "      <td>NaN</td>\n",
              "      <td>NaN</td>\n",
              "      <td>35.0</td>\n",
              "      <td>Johnson&amp;Johnson, Oxford/AstraZeneca, Pfizer/Bi...</td>\n",
              "      <td>World Health Organization</td>\n",
              "      <td>https://covid19.who.int/</td>\n",
              "    </tr>\n",
              "    <tr>\n",
              "      <th>...</th>\n",
              "      <td>...</td>\n",
              "      <td>...</td>\n",
              "      <td>...</td>\n",
              "      <td>...</td>\n",
              "      <td>...</td>\n",
              "      <td>...</td>\n",
              "      <td>...</td>\n",
              "      <td>...</td>\n",
              "      <td>...</td>\n",
              "      <td>...</td>\n",
              "      <td>...</td>\n",
              "      <td>...</td>\n",
              "      <td>...</td>\n",
              "      <td>...</td>\n",
              "      <td>...</td>\n",
              "    </tr>\n",
              "    <tr>\n",
              "      <th>31554</th>\n",
              "      <td>Zimbabwe</td>\n",
              "      <td>ZWE</td>\n",
              "      <td>2021-07-11</td>\n",
              "      <td>1491397.0</td>\n",
              "      <td>895980.0</td>\n",
              "      <td>595417.0</td>\n",
              "      <td>NaN</td>\n",
              "      <td>18598.0</td>\n",
              "      <td>10.03</td>\n",
              "      <td>6.03</td>\n",
              "      <td>4.01</td>\n",
              "      <td>1251.0</td>\n",
              "      <td>Sinopharm/Beijing</td>\n",
              "      <td>Ministry of Health</td>\n",
              "      <td>https://twitter.com/MoHCCZim/status/1415771723...</td>\n",
              "    </tr>\n",
              "    <tr>\n",
              "      <th>31555</th>\n",
              "      <td>Zimbabwe</td>\n",
              "      <td>ZWE</td>\n",
              "      <td>2021-07-12</td>\n",
              "      <td>1531868.0</td>\n",
              "      <td>926312.0</td>\n",
              "      <td>605556.0</td>\n",
              "      <td>40471.0</td>\n",
              "      <td>23205.0</td>\n",
              "      <td>10.31</td>\n",
              "      <td>6.23</td>\n",
              "      <td>4.07</td>\n",
              "      <td>1561.0</td>\n",
              "      <td>Sinopharm/Beijing</td>\n",
              "      <td>Ministry of Health</td>\n",
              "      <td>https://twitter.com/MoHCCZim/status/1415771723...</td>\n",
              "    </tr>\n",
              "    <tr>\n",
              "      <th>31556</th>\n",
              "      <td>Zimbabwe</td>\n",
              "      <td>ZWE</td>\n",
              "      <td>2021-07-13</td>\n",
              "      <td>1575539.0</td>\n",
              "      <td>955656.0</td>\n",
              "      <td>619883.0</td>\n",
              "      <td>43671.0</td>\n",
              "      <td>27567.0</td>\n",
              "      <td>10.60</td>\n",
              "      <td>6.43</td>\n",
              "      <td>4.17</td>\n",
              "      <td>1855.0</td>\n",
              "      <td>Sinopharm/Beijing</td>\n",
              "      <td>Ministry of Health</td>\n",
              "      <td>https://twitter.com/MoHCCZim/status/1415771723...</td>\n",
              "    </tr>\n",
              "    <tr>\n",
              "      <th>31557</th>\n",
              "      <td>Zimbabwe</td>\n",
              "      <td>ZWE</td>\n",
              "      <td>2021-07-14</td>\n",
              "      <td>1613640.0</td>\n",
              "      <td>988746.0</td>\n",
              "      <td>624894.0</td>\n",
              "      <td>38101.0</td>\n",
              "      <td>30698.0</td>\n",
              "      <td>10.86</td>\n",
              "      <td>6.65</td>\n",
              "      <td>4.20</td>\n",
              "      <td>2065.0</td>\n",
              "      <td>Sinopharm/Beijing</td>\n",
              "      <td>Ministry of Health</td>\n",
              "      <td>https://twitter.com/MoHCCZim/status/1415771723...</td>\n",
              "    </tr>\n",
              "    <tr>\n",
              "      <th>31558</th>\n",
              "      <td>Zimbabwe</td>\n",
              "      <td>ZWE</td>\n",
              "      <td>2021-07-15</td>\n",
              "      <td>1666862.0</td>\n",
              "      <td>1036252.0</td>\n",
              "      <td>630610.0</td>\n",
              "      <td>53222.0</td>\n",
              "      <td>33326.0</td>\n",
              "      <td>11.21</td>\n",
              "      <td>6.97</td>\n",
              "      <td>4.24</td>\n",
              "      <td>2242.0</td>\n",
              "      <td>Sinopharm/Beijing</td>\n",
              "      <td>Ministry of Health</td>\n",
              "      <td>https://twitter.com/MoHCCZim/status/1415771723...</td>\n",
              "    </tr>\n",
              "  </tbody>\n",
              "</table>\n",
              "<p>31559 rows × 15 columns</p>\n",
              "</div>"
            ],
            "text/plain": [
              "           country  ...                                     source_website\n",
              "0      Afghanistan  ...                           https://covid19.who.int/\n",
              "1      Afghanistan  ...                           https://covid19.who.int/\n",
              "2      Afghanistan  ...                           https://covid19.who.int/\n",
              "3      Afghanistan  ...                           https://covid19.who.int/\n",
              "4      Afghanistan  ...                           https://covid19.who.int/\n",
              "...            ...  ...                                                ...\n",
              "31554     Zimbabwe  ...  https://twitter.com/MoHCCZim/status/1415771723...\n",
              "31555     Zimbabwe  ...  https://twitter.com/MoHCCZim/status/1415771723...\n",
              "31556     Zimbabwe  ...  https://twitter.com/MoHCCZim/status/1415771723...\n",
              "31557     Zimbabwe  ...  https://twitter.com/MoHCCZim/status/1415771723...\n",
              "31558     Zimbabwe  ...  https://twitter.com/MoHCCZim/status/1415771723...\n",
              "\n",
              "[31559 rows x 15 columns]"
            ]
          },
          "execution_count": 40,
          "metadata": {
            "tags": []
          },
          "output_type": "execute_result"
        }
      ],
      "source": [
        "vaccinations_df"
      ]
    },
    {
      "cell_type": "code",
      "execution_count": null,
      "metadata": {
        "colab": {
          "base_uri": "https://localhost:8080/"
        },
        "execution": {
          "iopub.execute_input": "2021-07-19T07:46:46.529146Z",
          "iopub.status.busy": "2021-07-19T07:46:46.528322Z",
          "iopub.status.idle": "2021-07-19T07:46:46.585885Z",
          "shell.execute_reply": "2021-07-19T07:46:46.584131Z",
          "shell.execute_reply.started": "2021-07-19T07:46:46.529078Z"
        },
        "id": "2pXW-gXcKFJ5",
        "outputId": "b064a6b7-922e-401d-b420-1d13feae2c82",
        "trusted": true
      },
      "outputs": [
        {
          "name": "stdout",
          "output_type": "stream",
          "text": [
            "<class 'pandas.core.frame.DataFrame'>\n",
            "RangeIndex: 31559 entries, 0 to 31558\n",
            "Data columns (total 15 columns):\n",
            " #   Column                               Non-Null Count  Dtype  \n",
            "---  ------                               --------------  -----  \n",
            " 0   country                              31559 non-null  object \n",
            " 1   iso_code                             31559 non-null  object \n",
            " 2   date                                 31559 non-null  object \n",
            " 3   total_vaccinations                   17668 non-null  float64\n",
            " 4   people_vaccinated                    16825 non-null  float64\n",
            " 5   people_fully_vaccinated              14056 non-null  float64\n",
            " 6   daily_vaccinations_raw               14610 non-null  float64\n",
            " 7   daily_vaccinations                   31315 non-null  float64\n",
            " 8   total_vaccinations_per_hundred       17668 non-null  float64\n",
            " 9   people_vaccinated_per_hundred        16825 non-null  float64\n",
            " 10  people_fully_vaccinated_per_hundred  14056 non-null  float64\n",
            " 11  daily_vaccinations_per_million       31315 non-null  float64\n",
            " 12  vaccines                             31559 non-null  object \n",
            " 13  source_name                          31559 non-null  object \n",
            " 14  source_website                       31559 non-null  object \n",
            "dtypes: float64(9), object(6)\n",
            "memory usage: 3.6+ MB\n"
          ]
        }
      ],
      "source": [
        "vaccinations_df.info()"
      ]
    },
    {
      "cell_type": "code",
      "execution_count": null,
      "metadata": {
        "colab": {
          "base_uri": "https://localhost:8080/"
        },
        "execution": {
          "iopub.execute_input": "2021-07-19T07:46:46.588423Z",
          "iopub.status.busy": "2021-07-19T07:46:46.587925Z",
          "iopub.status.idle": "2021-07-19T07:46:46.597749Z",
          "shell.execute_reply": "2021-07-19T07:46:46.595839Z",
          "shell.execute_reply.started": "2021-07-19T07:46:46.588371Z"
        },
        "id": "ANJKvi1HKFJ5",
        "outputId": "04db6a44-ffe5-40b5-ede8-e93b11a88b29",
        "trusted": true
      },
      "outputs": [
        {
          "data": {
            "text/plain": [
              "Index(['country', 'iso_code', 'date', 'total_vaccinations',\n",
              "       'people_vaccinated', 'people_fully_vaccinated',\n",
              "       'daily_vaccinations_raw', 'daily_vaccinations',\n",
              "       'total_vaccinations_per_hundred', 'people_vaccinated_per_hundred',\n",
              "       'people_fully_vaccinated_per_hundred', 'daily_vaccinations_per_million',\n",
              "       'vaccines', 'source_name', 'source_website'],\n",
              "      dtype='object')"
            ]
          },
          "execution_count": 42,
          "metadata": {
            "tags": []
          },
          "output_type": "execute_result"
        }
      ],
      "source": [
        "vaccinations_df.columns #This is used to print all the columns. "
      ]
    },
    {
      "cell_type": "code",
      "execution_count": null,
      "metadata": {
        "colab": {
          "base_uri": "https://localhost:8080/"
        },
        "execution": {
          "iopub.execute_input": "2021-07-19T07:46:46.600744Z",
          "iopub.status.busy": "2021-07-19T07:46:46.599850Z",
          "iopub.status.idle": "2021-07-19T07:46:46.611362Z",
          "shell.execute_reply": "2021-07-19T07:46:46.610098Z",
          "shell.execute_reply.started": "2021-07-19T07:46:46.600660Z"
        },
        "id": "CPFyjZyXKFJ6",
        "outputId": "6d3d8a9f-8858-46f7-d8c3-8633b67a0771",
        "trusted": true
      },
      "outputs": [
        {
          "data": {
            "text/plain": [
              "(31559, 15)"
            ]
          },
          "execution_count": 43,
          "metadata": {
            "tags": []
          },
          "output_type": "execute_result"
        }
      ],
      "source": [
        "vaccinations_df.shape"
      ]
    },
    {
      "cell_type": "code",
      "execution_count": null,
      "metadata": {
        "colab": {
          "base_uri": "https://localhost:8080/",
          "height": 314
        },
        "execution": {
          "iopub.execute_input": "2021-07-19T07:46:46.615600Z",
          "iopub.status.busy": "2021-07-19T07:46:46.614824Z",
          "iopub.status.idle": "2021-07-19T07:46:46.695237Z",
          "shell.execute_reply": "2021-07-19T07:46:46.693285Z",
          "shell.execute_reply.started": "2021-07-19T07:46:46.615547Z"
        },
        "id": "il6PBQMZKFJ6",
        "outputId": "e1d1fcbd-82d4-4dd2-a72d-75f594e4a07e",
        "trusted": true
      },
      "outputs": [
        {
          "data": {
            "text/html": [
              "<div>\n",
              "<style scoped>\n",
              "    .dataframe tbody tr th:only-of-type {\n",
              "        vertical-align: middle;\n",
              "    }\n",
              "\n",
              "    .dataframe tbody tr th {\n",
              "        vertical-align: top;\n",
              "    }\n",
              "\n",
              "    .dataframe thead th {\n",
              "        text-align: right;\n",
              "    }\n",
              "</style>\n",
              "<table border=\"1\" class=\"dataframe\">\n",
              "  <thead>\n",
              "    <tr style=\"text-align: right;\">\n",
              "      <th></th>\n",
              "      <th>total_vaccinations</th>\n",
              "      <th>people_vaccinated</th>\n",
              "      <th>people_fully_vaccinated</th>\n",
              "      <th>daily_vaccinations_raw</th>\n",
              "      <th>daily_vaccinations</th>\n",
              "      <th>total_vaccinations_per_hundred</th>\n",
              "      <th>people_vaccinated_per_hundred</th>\n",
              "      <th>people_fully_vaccinated_per_hundred</th>\n",
              "      <th>daily_vaccinations_per_million</th>\n",
              "    </tr>\n",
              "  </thead>\n",
              "  <tbody>\n",
              "    <tr>\n",
              "      <th>count</th>\n",
              "      <td>1.766800e+04</td>\n",
              "      <td>1.682500e+04</td>\n",
              "      <td>1.405600e+04</td>\n",
              "      <td>1.461000e+04</td>\n",
              "      <td>3.131500e+04</td>\n",
              "      <td>17668.000000</td>\n",
              "      <td>16825.000000</td>\n",
              "      <td>14056.000000</td>\n",
              "      <td>31315.000000</td>\n",
              "    </tr>\n",
              "    <tr>\n",
              "      <th>mean</th>\n",
              "      <td>1.240539e+07</td>\n",
              "      <td>5.822263e+06</td>\n",
              "      <td>3.366567e+06</td>\n",
              "      <td>2.296473e+05</td>\n",
              "      <td>1.163343e+05</td>\n",
              "      <td>29.738031</td>\n",
              "      <td>19.384460</td>\n",
              "      <td>12.542610</td>\n",
              "      <td>3452.016957</td>\n",
              "    </tr>\n",
              "    <tr>\n",
              "      <th>std</th>\n",
              "      <td>6.878632e+07</td>\n",
              "      <td>2.147658e+07</td>\n",
              "      <td>1.254347e+07</td>\n",
              "      <td>1.260373e+06</td>\n",
              "      <td>8.483272e+05</td>\n",
              "      <td>35.368054</td>\n",
              "      <td>20.860233</td>\n",
              "      <td>16.033151</td>\n",
              "      <td>4571.311823</td>\n",
              "    </tr>\n",
              "    <tr>\n",
              "      <th>min</th>\n",
              "      <td>0.000000e+00</td>\n",
              "      <td>0.000000e+00</td>\n",
              "      <td>1.000000e+00</td>\n",
              "      <td>0.000000e+00</td>\n",
              "      <td>0.000000e+00</td>\n",
              "      <td>0.000000</td>\n",
              "      <td>0.000000</td>\n",
              "      <td>0.000000</td>\n",
              "      <td>0.000000</td>\n",
              "    </tr>\n",
              "    <tr>\n",
              "      <th>25%</th>\n",
              "      <td>1.290522e+05</td>\n",
              "      <td>1.014510e+05</td>\n",
              "      <td>4.866350e+04</td>\n",
              "      <td>4.355500e+03</td>\n",
              "      <td>8.540000e+02</td>\n",
              "      <td>3.020000</td>\n",
              "      <td>2.600000</td>\n",
              "      <td>1.330000</td>\n",
              "      <td>417.000000</td>\n",
              "    </tr>\n",
              "    <tr>\n",
              "      <th>50%</th>\n",
              "      <td>9.130615e+05</td>\n",
              "      <td>6.517070e+05</td>\n",
              "      <td>3.706940e+05</td>\n",
              "      <td>2.148850e+04</td>\n",
              "      <td>6.555000e+03</td>\n",
              "      <td>14.855000</td>\n",
              "      <td>10.940000</td>\n",
              "      <td>5.680000</td>\n",
              "      <td>1879.000000</td>\n",
              "    </tr>\n",
              "    <tr>\n",
              "      <th>75%</th>\n",
              "      <td>4.328477e+06</td>\n",
              "      <td>2.876633e+06</td>\n",
              "      <td>1.686008e+06</td>\n",
              "      <td>9.585425e+04</td>\n",
              "      <td>3.613800e+04</td>\n",
              "      <td>45.262500</td>\n",
              "      <td>31.410000</td>\n",
              "      <td>18.012500</td>\n",
              "      <td>5189.000000</td>\n",
              "    </tr>\n",
              "    <tr>\n",
              "      <th>max</th>\n",
              "      <td>1.456557e+09</td>\n",
              "      <td>6.220000e+08</td>\n",
              "      <td>2.232990e+08</td>\n",
              "      <td>2.474100e+07</td>\n",
              "      <td>2.242429e+07</td>\n",
              "      <td>232.350000</td>\n",
              "      <td>116.660000</td>\n",
              "      <td>115.690000</td>\n",
              "      <td>118759.000000</td>\n",
              "    </tr>\n",
              "  </tbody>\n",
              "</table>\n",
              "</div>"
            ],
            "text/plain": [
              "       total_vaccinations  ...  daily_vaccinations_per_million\n",
              "count        1.766800e+04  ...                    31315.000000\n",
              "mean         1.240539e+07  ...                     3452.016957\n",
              "std          6.878632e+07  ...                     4571.311823\n",
              "min          0.000000e+00  ...                        0.000000\n",
              "25%          1.290522e+05  ...                      417.000000\n",
              "50%          9.130615e+05  ...                     1879.000000\n",
              "75%          4.328477e+06  ...                     5189.000000\n",
              "max          1.456557e+09  ...                   118759.000000\n",
              "\n",
              "[8 rows x 9 columns]"
            ]
          },
          "execution_count": 44,
          "metadata": {
            "tags": []
          },
          "output_type": "execute_result"
        }
      ],
      "source": [
        "vaccinations_df.describe() # It describes the distribution of data on different statistical parameter"
      ]
    },
    {
      "cell_type": "code",
      "execution_count": null,
      "metadata": {
        "colab": {
          "base_uri": "https://localhost:8080/"
        },
        "execution": {
          "iopub.execute_input": "2021-07-19T07:46:46.698535Z",
          "iopub.status.busy": "2021-07-19T07:46:46.698009Z",
          "iopub.status.idle": "2021-07-19T07:46:46.734197Z",
          "shell.execute_reply": "2021-07-19T07:46:46.732101Z",
          "shell.execute_reply.started": "2021-07-19T07:46:46.698484Z"
        },
        "id": "GSo1sCWZzLxL",
        "outputId": "96bd219a-8b43-452c-9101-358db53d224e",
        "trusted": true
      },
      "outputs": [
        {
          "data": {
            "text/plain": [
              "country                                    0\n",
              "iso_code                                   0\n",
              "date                                       0\n",
              "total_vaccinations                     13891\n",
              "people_vaccinated                      14734\n",
              "people_fully_vaccinated                17503\n",
              "daily_vaccinations_raw                 16949\n",
              "daily_vaccinations                       244\n",
              "total_vaccinations_per_hundred         13891\n",
              "people_vaccinated_per_hundred          14734\n",
              "people_fully_vaccinated_per_hundred    17503\n",
              "daily_vaccinations_per_million           244\n",
              "vaccines                                   0\n",
              "source_name                                0\n",
              "source_website                             0\n",
              "dtype: int64"
            ]
          },
          "execution_count": 45,
          "metadata": {
            "tags": []
          },
          "output_type": "execute_result"
        }
      ],
      "source": [
        "vaccinations_df.isnull().sum() # This finds number of null values in columns and finds the sum of it. "
      ]
    },
    {
      "cell_type": "code",
      "execution_count": null,
      "metadata": {
        "colab": {
          "base_uri": "https://localhost:8080/",
          "height": 686
        },
        "execution": {
          "iopub.execute_input": "2021-07-19T07:46:46.737780Z",
          "iopub.status.busy": "2021-07-19T07:46:46.737178Z",
          "iopub.status.idle": "2021-07-19T07:46:46.868913Z",
          "shell.execute_reply": "2021-07-19T07:46:46.867802Z",
          "shell.execute_reply.started": "2021-07-19T07:46:46.737679Z"
        },
        "id": "7-XA8tvzzZu0",
        "outputId": "eae4c8ff-b327-43f6-de37-7716363c707e",
        "trusted": true
      },
      "outputs": [
        {
          "data": {
            "text/html": [
              "<div>\n",
              "<style scoped>\n",
              "    .dataframe tbody tr th:only-of-type {\n",
              "        vertical-align: middle;\n",
              "    }\n",
              "\n",
              "    .dataframe tbody tr th {\n",
              "        vertical-align: top;\n",
              "    }\n",
              "\n",
              "    .dataframe thead th {\n",
              "        text-align: right;\n",
              "    }\n",
              "</style>\n",
              "<table border=\"1\" class=\"dataframe\">\n",
              "  <thead>\n",
              "    <tr style=\"text-align: right;\">\n",
              "      <th></th>\n",
              "      <th>country</th>\n",
              "      <th>iso_code</th>\n",
              "      <th>date</th>\n",
              "      <th>total_vaccinations</th>\n",
              "      <th>people_vaccinated</th>\n",
              "      <th>people_fully_vaccinated</th>\n",
              "      <th>daily_vaccinations_raw</th>\n",
              "      <th>daily_vaccinations</th>\n",
              "      <th>total_vaccinations_per_hundred</th>\n",
              "      <th>people_vaccinated_per_hundred</th>\n",
              "      <th>people_fully_vaccinated_per_hundred</th>\n",
              "      <th>daily_vaccinations_per_million</th>\n",
              "      <th>vaccines</th>\n",
              "      <th>source_name</th>\n",
              "      <th>source_website</th>\n",
              "    </tr>\n",
              "  </thead>\n",
              "  <tbody>\n",
              "    <tr>\n",
              "      <th>0</th>\n",
              "      <td>Afghanistan</td>\n",
              "      <td>AFG</td>\n",
              "      <td>2021-02-22</td>\n",
              "      <td>0.0</td>\n",
              "      <td>0.0</td>\n",
              "      <td>0.0</td>\n",
              "      <td>0.0</td>\n",
              "      <td>0.0</td>\n",
              "      <td>0.00</td>\n",
              "      <td>0.00</td>\n",
              "      <td>0.00</td>\n",
              "      <td>0.0</td>\n",
              "      <td>Johnson&amp;Johnson, Oxford/AstraZeneca, Pfizer/Bi...</td>\n",
              "      <td>World Health Organization</td>\n",
              "      <td>https://covid19.who.int/</td>\n",
              "    </tr>\n",
              "    <tr>\n",
              "      <th>1</th>\n",
              "      <td>Afghanistan</td>\n",
              "      <td>AFG</td>\n",
              "      <td>2021-02-23</td>\n",
              "      <td>0.0</td>\n",
              "      <td>0.0</td>\n",
              "      <td>0.0</td>\n",
              "      <td>0.0</td>\n",
              "      <td>1367.0</td>\n",
              "      <td>0.00</td>\n",
              "      <td>0.00</td>\n",
              "      <td>0.00</td>\n",
              "      <td>35.0</td>\n",
              "      <td>Johnson&amp;Johnson, Oxford/AstraZeneca, Pfizer/Bi...</td>\n",
              "      <td>World Health Organization</td>\n",
              "      <td>https://covid19.who.int/</td>\n",
              "    </tr>\n",
              "    <tr>\n",
              "      <th>2</th>\n",
              "      <td>Afghanistan</td>\n",
              "      <td>AFG</td>\n",
              "      <td>2021-02-24</td>\n",
              "      <td>0.0</td>\n",
              "      <td>0.0</td>\n",
              "      <td>0.0</td>\n",
              "      <td>0.0</td>\n",
              "      <td>1367.0</td>\n",
              "      <td>0.00</td>\n",
              "      <td>0.00</td>\n",
              "      <td>0.00</td>\n",
              "      <td>35.0</td>\n",
              "      <td>Johnson&amp;Johnson, Oxford/AstraZeneca, Pfizer/Bi...</td>\n",
              "      <td>World Health Organization</td>\n",
              "      <td>https://covid19.who.int/</td>\n",
              "    </tr>\n",
              "    <tr>\n",
              "      <th>3</th>\n",
              "      <td>Afghanistan</td>\n",
              "      <td>AFG</td>\n",
              "      <td>2021-02-25</td>\n",
              "      <td>0.0</td>\n",
              "      <td>0.0</td>\n",
              "      <td>0.0</td>\n",
              "      <td>0.0</td>\n",
              "      <td>1367.0</td>\n",
              "      <td>0.00</td>\n",
              "      <td>0.00</td>\n",
              "      <td>0.00</td>\n",
              "      <td>35.0</td>\n",
              "      <td>Johnson&amp;Johnson, Oxford/AstraZeneca, Pfizer/Bi...</td>\n",
              "      <td>World Health Organization</td>\n",
              "      <td>https://covid19.who.int/</td>\n",
              "    </tr>\n",
              "    <tr>\n",
              "      <th>4</th>\n",
              "      <td>Afghanistan</td>\n",
              "      <td>AFG</td>\n",
              "      <td>2021-02-26</td>\n",
              "      <td>0.0</td>\n",
              "      <td>0.0</td>\n",
              "      <td>0.0</td>\n",
              "      <td>0.0</td>\n",
              "      <td>1367.0</td>\n",
              "      <td>0.00</td>\n",
              "      <td>0.00</td>\n",
              "      <td>0.00</td>\n",
              "      <td>35.0</td>\n",
              "      <td>Johnson&amp;Johnson, Oxford/AstraZeneca, Pfizer/Bi...</td>\n",
              "      <td>World Health Organization</td>\n",
              "      <td>https://covid19.who.int/</td>\n",
              "    </tr>\n",
              "    <tr>\n",
              "      <th>...</th>\n",
              "      <td>...</td>\n",
              "      <td>...</td>\n",
              "      <td>...</td>\n",
              "      <td>...</td>\n",
              "      <td>...</td>\n",
              "      <td>...</td>\n",
              "      <td>...</td>\n",
              "      <td>...</td>\n",
              "      <td>...</td>\n",
              "      <td>...</td>\n",
              "      <td>...</td>\n",
              "      <td>...</td>\n",
              "      <td>...</td>\n",
              "      <td>...</td>\n",
              "      <td>...</td>\n",
              "    </tr>\n",
              "    <tr>\n",
              "      <th>31554</th>\n",
              "      <td>Zimbabwe</td>\n",
              "      <td>ZWE</td>\n",
              "      <td>2021-07-11</td>\n",
              "      <td>1491397.0</td>\n",
              "      <td>895980.0</td>\n",
              "      <td>595417.0</td>\n",
              "      <td>0.0</td>\n",
              "      <td>18598.0</td>\n",
              "      <td>10.03</td>\n",
              "      <td>6.03</td>\n",
              "      <td>4.01</td>\n",
              "      <td>1251.0</td>\n",
              "      <td>Sinopharm/Beijing</td>\n",
              "      <td>Ministry of Health</td>\n",
              "      <td>https://twitter.com/MoHCCZim/status/1415771723...</td>\n",
              "    </tr>\n",
              "    <tr>\n",
              "      <th>31555</th>\n",
              "      <td>Zimbabwe</td>\n",
              "      <td>ZWE</td>\n",
              "      <td>2021-07-12</td>\n",
              "      <td>1531868.0</td>\n",
              "      <td>926312.0</td>\n",
              "      <td>605556.0</td>\n",
              "      <td>40471.0</td>\n",
              "      <td>23205.0</td>\n",
              "      <td>10.31</td>\n",
              "      <td>6.23</td>\n",
              "      <td>4.07</td>\n",
              "      <td>1561.0</td>\n",
              "      <td>Sinopharm/Beijing</td>\n",
              "      <td>Ministry of Health</td>\n",
              "      <td>https://twitter.com/MoHCCZim/status/1415771723...</td>\n",
              "    </tr>\n",
              "    <tr>\n",
              "      <th>31556</th>\n",
              "      <td>Zimbabwe</td>\n",
              "      <td>ZWE</td>\n",
              "      <td>2021-07-13</td>\n",
              "      <td>1575539.0</td>\n",
              "      <td>955656.0</td>\n",
              "      <td>619883.0</td>\n",
              "      <td>43671.0</td>\n",
              "      <td>27567.0</td>\n",
              "      <td>10.60</td>\n",
              "      <td>6.43</td>\n",
              "      <td>4.17</td>\n",
              "      <td>1855.0</td>\n",
              "      <td>Sinopharm/Beijing</td>\n",
              "      <td>Ministry of Health</td>\n",
              "      <td>https://twitter.com/MoHCCZim/status/1415771723...</td>\n",
              "    </tr>\n",
              "    <tr>\n",
              "      <th>31557</th>\n",
              "      <td>Zimbabwe</td>\n",
              "      <td>ZWE</td>\n",
              "      <td>2021-07-14</td>\n",
              "      <td>1613640.0</td>\n",
              "      <td>988746.0</td>\n",
              "      <td>624894.0</td>\n",
              "      <td>38101.0</td>\n",
              "      <td>30698.0</td>\n",
              "      <td>10.86</td>\n",
              "      <td>6.65</td>\n",
              "      <td>4.20</td>\n",
              "      <td>2065.0</td>\n",
              "      <td>Sinopharm/Beijing</td>\n",
              "      <td>Ministry of Health</td>\n",
              "      <td>https://twitter.com/MoHCCZim/status/1415771723...</td>\n",
              "    </tr>\n",
              "    <tr>\n",
              "      <th>31558</th>\n",
              "      <td>Zimbabwe</td>\n",
              "      <td>ZWE</td>\n",
              "      <td>2021-07-15</td>\n",
              "      <td>1666862.0</td>\n",
              "      <td>1036252.0</td>\n",
              "      <td>630610.0</td>\n",
              "      <td>53222.0</td>\n",
              "      <td>33326.0</td>\n",
              "      <td>11.21</td>\n",
              "      <td>6.97</td>\n",
              "      <td>4.24</td>\n",
              "      <td>2242.0</td>\n",
              "      <td>Sinopharm/Beijing</td>\n",
              "      <td>Ministry of Health</td>\n",
              "      <td>https://twitter.com/MoHCCZim/status/1415771723...</td>\n",
              "    </tr>\n",
              "  </tbody>\n",
              "</table>\n",
              "<p>31559 rows × 15 columns</p>\n",
              "</div>"
            ],
            "text/plain": [
              "           country  ...                                     source_website\n",
              "0      Afghanistan  ...                           https://covid19.who.int/\n",
              "1      Afghanistan  ...                           https://covid19.who.int/\n",
              "2      Afghanistan  ...                           https://covid19.who.int/\n",
              "3      Afghanistan  ...                           https://covid19.who.int/\n",
              "4      Afghanistan  ...                           https://covid19.who.int/\n",
              "...            ...  ...                                                ...\n",
              "31554     Zimbabwe  ...  https://twitter.com/MoHCCZim/status/1415771723...\n",
              "31555     Zimbabwe  ...  https://twitter.com/MoHCCZim/status/1415771723...\n",
              "31556     Zimbabwe  ...  https://twitter.com/MoHCCZim/status/1415771723...\n",
              "31557     Zimbabwe  ...  https://twitter.com/MoHCCZim/status/1415771723...\n",
              "31558     Zimbabwe  ...  https://twitter.com/MoHCCZim/status/1415771723...\n",
              "\n",
              "[31559 rows x 15 columns]"
            ]
          },
          "execution_count": 46,
          "metadata": {
            "tags": []
          },
          "output_type": "execute_result"
        }
      ],
      "source": [
        "vaccinations_df.fillna(value=0, inplace=True) # This puts 0 in the case of all null values. Do remember null and 0 are different. Null means nothing whereas 0 is a mathematical quantity. \n",
        "vaccinations_df"
      ]
    },
    {
      "cell_type": "code",
      "execution_count": null,
      "metadata": {
        "colab": {
          "base_uri": "https://localhost:8080/",
          "height": 35
        },
        "id": "KtVZz8HQeOZx",
        "outputId": "6b59ce00-07d4-43b1-b28c-0759869c62e3"
      },
      "outputs": [
        {
          "data": {
            "application/vnd.google.colaboratory.intrinsic+json": {
              "type": "string"
            },
            "text/plain": [
              "'2020-12-02'"
            ]
          },
          "execution_count": 47,
          "metadata": {
            "tags": []
          },
          "output_type": "execute_result"
        }
      ],
      "source": [
        "vaccinations_df['date'].min() # This tells us from which date we have data. "
      ]
    },
    {
      "cell_type": "code",
      "execution_count": null,
      "metadata": {
        "colab": {
          "base_uri": "https://localhost:8080/",
          "height": 35
        },
        "id": "s9OUdIxYedB0",
        "outputId": "21136569-f7de-4aa5-ab1a-2bc1f9523ebd"
      },
      "outputs": [
        {
          "data": {
            "application/vnd.google.colaboratory.intrinsic+json": {
              "type": "string"
            },
            "text/plain": [
              "'2021-07-18'"
            ]
          },
          "execution_count": 48,
          "metadata": {
            "tags": []
          },
          "output_type": "execute_result"
        }
      ],
      "source": [
        "vaccinations_df['date'].max() # This tells us to which date we have data. "
      ]
    },
    {
      "cell_type": "code",
      "execution_count": null,
      "metadata": {
        "colab": {
          "base_uri": "https://localhost:8080/",
          "height": 415
        },
        "id": "cE2I-V56dFMv",
        "outputId": "064c091c-ca27-4622-a7c9-ae5b720b7510"
      },
      "outputs": [
        {
          "data": {
            "text/html": [
              "<div>\n",
              "<style scoped>\n",
              "    .dataframe tbody tr th:only-of-type {\n",
              "        vertical-align: middle;\n",
              "    }\n",
              "\n",
              "    .dataframe tbody tr th {\n",
              "        vertical-align: top;\n",
              "    }\n",
              "\n",
              "    .dataframe thead th {\n",
              "        text-align: right;\n",
              "    }\n",
              "</style>\n",
              "<table border=\"1\" class=\"dataframe\">\n",
              "  <thead>\n",
              "    <tr style=\"text-align: right;\">\n",
              "      <th></th>\n",
              "      <th>0</th>\n",
              "      <th>1</th>\n",
              "      <th>2</th>\n",
              "    </tr>\n",
              "  </thead>\n",
              "  <tbody>\n",
              "    <tr>\n",
              "      <th>0</th>\n",
              "      <td>2021</td>\n",
              "      <td>02</td>\n",
              "      <td>22</td>\n",
              "    </tr>\n",
              "    <tr>\n",
              "      <th>1</th>\n",
              "      <td>2021</td>\n",
              "      <td>02</td>\n",
              "      <td>23</td>\n",
              "    </tr>\n",
              "    <tr>\n",
              "      <th>2</th>\n",
              "      <td>2021</td>\n",
              "      <td>02</td>\n",
              "      <td>24</td>\n",
              "    </tr>\n",
              "    <tr>\n",
              "      <th>3</th>\n",
              "      <td>2021</td>\n",
              "      <td>02</td>\n",
              "      <td>25</td>\n",
              "    </tr>\n",
              "    <tr>\n",
              "      <th>4</th>\n",
              "      <td>2021</td>\n",
              "      <td>02</td>\n",
              "      <td>26</td>\n",
              "    </tr>\n",
              "    <tr>\n",
              "      <th>...</th>\n",
              "      <td>...</td>\n",
              "      <td>...</td>\n",
              "      <td>...</td>\n",
              "    </tr>\n",
              "    <tr>\n",
              "      <th>31554</th>\n",
              "      <td>2021</td>\n",
              "      <td>07</td>\n",
              "      <td>11</td>\n",
              "    </tr>\n",
              "    <tr>\n",
              "      <th>31555</th>\n",
              "      <td>2021</td>\n",
              "      <td>07</td>\n",
              "      <td>12</td>\n",
              "    </tr>\n",
              "    <tr>\n",
              "      <th>31556</th>\n",
              "      <td>2021</td>\n",
              "      <td>07</td>\n",
              "      <td>13</td>\n",
              "    </tr>\n",
              "    <tr>\n",
              "      <th>31557</th>\n",
              "      <td>2021</td>\n",
              "      <td>07</td>\n",
              "      <td>14</td>\n",
              "    </tr>\n",
              "    <tr>\n",
              "      <th>31558</th>\n",
              "      <td>2021</td>\n",
              "      <td>07</td>\n",
              "      <td>15</td>\n",
              "    </tr>\n",
              "  </tbody>\n",
              "</table>\n",
              "<p>31559 rows × 3 columns</p>\n",
              "</div>"
            ],
            "text/plain": [
              "          0   1   2\n",
              "0      2021  02  22\n",
              "1      2021  02  23\n",
              "2      2021  02  24\n",
              "3      2021  02  25\n",
              "4      2021  02  26\n",
              "...     ...  ..  ..\n",
              "31554  2021  07  11\n",
              "31555  2021  07  12\n",
              "31556  2021  07  13\n",
              "31557  2021  07  14\n",
              "31558  2021  07  15\n",
              "\n",
              "[31559 rows x 3 columns]"
            ]
          },
          "execution_count": 49,
          "metadata": {
            "tags": []
          },
          "output_type": "execute_result"
        }
      ],
      "source": [
        "# We want our data to be separated on basis of '-' and date's day, month and year being saved in different columns. \n",
        "date = vaccinations_df.date.str.split('-', expand=True) \n",
        "date"
      ]
    },
    {
      "cell_type": "code",
      "execution_count": null,
      "metadata": {
        "colab": {
          "base_uri": "https://localhost:8080/",
          "height": 389
        },
        "execution": {
          "iopub.execute_input": "2021-07-19T07:46:46.870658Z",
          "iopub.status.busy": "2021-07-19T07:46:46.870331Z",
          "iopub.status.idle": "2021-07-19T07:46:47.024438Z",
          "shell.execute_reply": "2021-07-19T07:46:47.022842Z",
          "shell.execute_reply.started": "2021-07-19T07:46:46.870627Z"
        },
        "id": "5mIj6kbxz1Ix",
        "outputId": "0e22ff93-4182-4518-9726-4d89de191aec",
        "trusted": true
      },
      "outputs": [
        {
          "data": {
            "text/html": [
              "<div>\n",
              "<style scoped>\n",
              "    .dataframe tbody tr th:only-of-type {\n",
              "        vertical-align: middle;\n",
              "    }\n",
              "\n",
              "    .dataframe tbody tr th {\n",
              "        vertical-align: top;\n",
              "    }\n",
              "\n",
              "    .dataframe thead th {\n",
              "        text-align: right;\n",
              "    }\n",
              "</style>\n",
              "<table border=\"1\" class=\"dataframe\">\n",
              "  <thead>\n",
              "    <tr style=\"text-align: right;\">\n",
              "      <th></th>\n",
              "      <th>country</th>\n",
              "      <th>iso_code</th>\n",
              "      <th>date</th>\n",
              "      <th>total_vaccinations</th>\n",
              "      <th>people_vaccinated</th>\n",
              "      <th>people_fully_vaccinated</th>\n",
              "      <th>daily_vaccinations_raw</th>\n",
              "      <th>daily_vaccinations</th>\n",
              "      <th>total_vaccinations_per_hundred</th>\n",
              "      <th>people_vaccinated_per_hundred</th>\n",
              "      <th>people_fully_vaccinated_per_hundred</th>\n",
              "      <th>daily_vaccinations_per_million</th>\n",
              "      <th>vaccines</th>\n",
              "      <th>source_name</th>\n",
              "      <th>source_website</th>\n",
              "      <th>year</th>\n",
              "      <th>month</th>\n",
              "      <th>day</th>\n",
              "    </tr>\n",
              "  </thead>\n",
              "  <tbody>\n",
              "    <tr>\n",
              "      <th>0</th>\n",
              "      <td>Afghanistan</td>\n",
              "      <td>AFG</td>\n",
              "      <td>2021-02-22</td>\n",
              "      <td>0.0</td>\n",
              "      <td>0.0</td>\n",
              "      <td>0.0</td>\n",
              "      <td>0.0</td>\n",
              "      <td>0.0</td>\n",
              "      <td>0.0</td>\n",
              "      <td>0.0</td>\n",
              "      <td>0.0</td>\n",
              "      <td>0.0</td>\n",
              "      <td>Johnson&amp;Johnson, Oxford/AstraZeneca, Pfizer/Bi...</td>\n",
              "      <td>World Health Organization</td>\n",
              "      <td>https://covid19.who.int/</td>\n",
              "      <td>2021</td>\n",
              "      <td>2</td>\n",
              "      <td>22</td>\n",
              "    </tr>\n",
              "    <tr>\n",
              "      <th>1</th>\n",
              "      <td>Afghanistan</td>\n",
              "      <td>AFG</td>\n",
              "      <td>2021-02-23</td>\n",
              "      <td>0.0</td>\n",
              "      <td>0.0</td>\n",
              "      <td>0.0</td>\n",
              "      <td>0.0</td>\n",
              "      <td>1367.0</td>\n",
              "      <td>0.0</td>\n",
              "      <td>0.0</td>\n",
              "      <td>0.0</td>\n",
              "      <td>35.0</td>\n",
              "      <td>Johnson&amp;Johnson, Oxford/AstraZeneca, Pfizer/Bi...</td>\n",
              "      <td>World Health Organization</td>\n",
              "      <td>https://covid19.who.int/</td>\n",
              "      <td>2021</td>\n",
              "      <td>2</td>\n",
              "      <td>23</td>\n",
              "    </tr>\n",
              "    <tr>\n",
              "      <th>2</th>\n",
              "      <td>Afghanistan</td>\n",
              "      <td>AFG</td>\n",
              "      <td>2021-02-24</td>\n",
              "      <td>0.0</td>\n",
              "      <td>0.0</td>\n",
              "      <td>0.0</td>\n",
              "      <td>0.0</td>\n",
              "      <td>1367.0</td>\n",
              "      <td>0.0</td>\n",
              "      <td>0.0</td>\n",
              "      <td>0.0</td>\n",
              "      <td>35.0</td>\n",
              "      <td>Johnson&amp;Johnson, Oxford/AstraZeneca, Pfizer/Bi...</td>\n",
              "      <td>World Health Organization</td>\n",
              "      <td>https://covid19.who.int/</td>\n",
              "      <td>2021</td>\n",
              "      <td>2</td>\n",
              "      <td>24</td>\n",
              "    </tr>\n",
              "    <tr>\n",
              "      <th>3</th>\n",
              "      <td>Afghanistan</td>\n",
              "      <td>AFG</td>\n",
              "      <td>2021-02-25</td>\n",
              "      <td>0.0</td>\n",
              "      <td>0.0</td>\n",
              "      <td>0.0</td>\n",
              "      <td>0.0</td>\n",
              "      <td>1367.0</td>\n",
              "      <td>0.0</td>\n",
              "      <td>0.0</td>\n",
              "      <td>0.0</td>\n",
              "      <td>35.0</td>\n",
              "      <td>Johnson&amp;Johnson, Oxford/AstraZeneca, Pfizer/Bi...</td>\n",
              "      <td>World Health Organization</td>\n",
              "      <td>https://covid19.who.int/</td>\n",
              "      <td>2021</td>\n",
              "      <td>2</td>\n",
              "      <td>25</td>\n",
              "    </tr>\n",
              "    <tr>\n",
              "      <th>4</th>\n",
              "      <td>Afghanistan</td>\n",
              "      <td>AFG</td>\n",
              "      <td>2021-02-26</td>\n",
              "      <td>0.0</td>\n",
              "      <td>0.0</td>\n",
              "      <td>0.0</td>\n",
              "      <td>0.0</td>\n",
              "      <td>1367.0</td>\n",
              "      <td>0.0</td>\n",
              "      <td>0.0</td>\n",
              "      <td>0.0</td>\n",
              "      <td>35.0</td>\n",
              "      <td>Johnson&amp;Johnson, Oxford/AstraZeneca, Pfizer/Bi...</td>\n",
              "      <td>World Health Organization</td>\n",
              "      <td>https://covid19.who.int/</td>\n",
              "      <td>2021</td>\n",
              "      <td>2</td>\n",
              "      <td>26</td>\n",
              "    </tr>\n",
              "  </tbody>\n",
              "</table>\n",
              "</div>"
            ],
            "text/plain": [
              "       country iso_code       date  ...  year  month  day\n",
              "0  Afghanistan      AFG 2021-02-22  ...  2021      2   22\n",
              "1  Afghanistan      AFG 2021-02-23  ...  2021      2   23\n",
              "2  Afghanistan      AFG 2021-02-24  ...  2021      2   24\n",
              "3  Afghanistan      AFG 2021-02-25  ...  2021      2   25\n",
              "4  Afghanistan      AFG 2021-02-26  ...  2021      2   26\n",
              "\n",
              "[5 rows x 18 columns]"
            ]
          },
          "execution_count": 50,
          "metadata": {
            "tags": []
          },
          "output_type": "execute_result"
        }
      ],
      "source": [
        "# We are adding new columns for year, month and day. \n",
        "vaccinations_df['year'] = date[0] \n",
        "vaccinations_df['month'] = date[1]\n",
        "vaccinations_df['day'] = date[2]\n",
        "\n",
        "# Changing all to numbers. \n",
        "vaccinations_df.year = pd.to_numeric(vaccinations_df.year) \n",
        "vaccinations_df.month = pd.to_numeric(vaccinations_df.month)\n",
        "vaccinations_df.day = pd.to_numeric(vaccinations_df.day)\n",
        "# putting new value into date. \n",
        "vaccinations_df.date = pd.to_datetime(vaccinations_df.date)\n",
        "\n",
        "vaccinations_df.head()"
      ]
    },
    {
      "cell_type": "code",
      "execution_count": null,
      "metadata": {
        "colab": {
          "base_uri": "https://localhost:8080/"
        },
        "execution": {
          "iopub.execute_input": "2021-07-19T07:46:47.028051Z",
          "iopub.status.busy": "2021-07-19T07:46:47.027336Z",
          "iopub.status.idle": "2021-07-19T07:46:47.073512Z",
          "shell.execute_reply": "2021-07-19T07:46:47.072184Z",
          "shell.execute_reply.started": "2021-07-19T07:46:47.027994Z"
        },
        "id": "mHEtqjmB1E0d",
        "outputId": "f59dfcef-baa8-4fd9-d1eb-31fa5d5189fe",
        "trusted": true
      },
      "outputs": [
        {
          "name": "stdout",
          "output_type": "stream",
          "text": [
            "<class 'pandas.core.frame.DataFrame'>\n",
            "RangeIndex: 31559 entries, 0 to 31558\n",
            "Data columns (total 18 columns):\n",
            " #   Column                               Non-Null Count  Dtype         \n",
            "---  ------                               --------------  -----         \n",
            " 0   country                              31559 non-null  object        \n",
            " 1   iso_code                             31559 non-null  object        \n",
            " 2   date                                 31559 non-null  datetime64[ns]\n",
            " 3   total_vaccinations                   31559 non-null  float64       \n",
            " 4   people_vaccinated                    31559 non-null  float64       \n",
            " 5   people_fully_vaccinated              31559 non-null  float64       \n",
            " 6   daily_vaccinations_raw               31559 non-null  float64       \n",
            " 7   daily_vaccinations                   31559 non-null  float64       \n",
            " 8   total_vaccinations_per_hundred       31559 non-null  float64       \n",
            " 9   people_vaccinated_per_hundred        31559 non-null  float64       \n",
            " 10  people_fully_vaccinated_per_hundred  31559 non-null  float64       \n",
            " 11  daily_vaccinations_per_million       31559 non-null  float64       \n",
            " 12  vaccines                             31559 non-null  object        \n",
            " 13  source_name                          31559 non-null  object        \n",
            " 14  source_website                       31559 non-null  object        \n",
            " 15  year                                 31559 non-null  int64         \n",
            " 16  month                                31559 non-null  int64         \n",
            " 17  day                                  31559 non-null  int64         \n",
            "dtypes: datetime64[ns](1), float64(9), int64(3), object(5)\n",
            "memory usage: 4.3+ MB\n"
          ]
        }
      ],
      "source": [
        "vaccinations_df.info() # year, month and day are mentioned at last. "
      ]
    },
    {
      "cell_type": "markdown",
      "metadata": {
        "id": "jq0mBB7KKFJ6"
      },
      "source": [
        "## Exploratory Analysis and Visualization\n",
        "\n",
        "\n"
      ]
    },
    {
      "cell_type": "markdown",
      "metadata": {
        "id": "ZCTdpKOOKFJ7"
      },
      "source": [
        "Let's begin by importing`matplotlib.pyplot` and `seaborn`."
      ]
    },
    {
      "cell_type": "code",
      "execution_count": null,
      "metadata": {
        "execution": {
          "iopub.execute_input": "2021-07-19T07:46:47.076114Z",
          "iopub.status.busy": "2021-07-19T07:46:47.075685Z",
          "iopub.status.idle": "2021-07-19T07:46:48.078238Z",
          "shell.execute_reply": "2021-07-19T07:46:48.077111Z",
          "shell.execute_reply.started": "2021-07-19T07:46:47.076076Z"
        },
        "id": "3jcILoXEKFJ7",
        "trusted": true
      },
      "outputs": [],
      "source": [
        "import seaborn as sns\n",
        "import matplotlib\n",
        "import matplotlib.pyplot as plt\n",
        "\n",
        "# sns.set_style('darkgrid') # optional \n",
        "# matplotlib.rcParams['font.size'] = 14\n",
        "# matplotlib.rcParams['figure.figsize'] = (9, 5)\n",
        "# matplotlib.rcParams['figure.facecolor'] = '#00000000'"
      ]
    },
    {
      "cell_type": "markdown",
      "metadata": {
        "id": "7uBpYXN8KFJ7"
      },
      "source": [
        "Explore the mean, min, max"
      ]
    },
    {
      "cell_type": "code",
      "execution_count": null,
      "metadata": {
        "colab": {
          "base_uri": "https://localhost:8080/"
        },
        "execution": {
          "iopub.execute_input": "2021-07-19T07:46:48.080251Z",
          "iopub.status.busy": "2021-07-19T07:46:48.079736Z",
          "iopub.status.idle": "2021-07-19T07:46:53.275349Z",
          "shell.execute_reply": "2021-07-19T07:46:53.274510Z",
          "shell.execute_reply.started": "2021-07-19T07:46:48.080213Z"
        },
        "id": "oS3k_hlqKFJ7",
        "outputId": "3adc4026-018b-4e41-fe90-78a6cef59438",
        "trusted": true
      },
      "outputs": [
        {
          "name": "stderr",
          "output_type": "stream",
          "text": [
            "/usr/local/lib/python3.7/dist-packages/ipykernel_launcher.py:1: FutureWarning: DataFrame.mean and DataFrame.median with numeric_only=None will include datetime64 and datetime64tz columns in a future version.\n",
            "  \"\"\"Entry point for launching an IPython kernel.\n"
          ]
        },
        {
          "data": {
            "text/plain": [
              "total_vaccinations                     6.945036e+06\n",
              "people_vaccinated                      3.104014e+06\n",
              "people_fully_vaccinated                1.499429e+06\n",
              "daily_vaccinations_raw                 1.063135e+05\n",
              "daily_vaccinations                     1.154348e+05\n",
              "total_vaccinations_per_hundred         1.664855e+01\n",
              "people_vaccinated_per_hundred          1.033441e+01\n",
              "people_fully_vaccinated_per_hundred    5.586328e+00\n",
              "daily_vaccinations_per_million         3.425328e+03\n",
              "year                                   2.020987e+03\n",
              "month                                  4.431414e+00\n",
              "day                                    1.544162e+01\n",
              "dtype: float64"
            ]
          },
          "execution_count": 53,
          "metadata": {
            "tags": []
          },
          "output_type": "execute_result"
        }
      ],
      "source": [
        "vaccinations_df.mean()"
      ]
    },
    {
      "cell_type": "code",
      "execution_count": null,
      "metadata": {
        "colab": {
          "base_uri": "https://localhost:8080/"
        },
        "execution": {
          "iopub.execute_input": "2021-07-19T07:46:53.277549Z",
          "iopub.status.busy": "2021-07-19T07:46:53.276911Z",
          "iopub.status.idle": "2021-07-19T07:46:53.319036Z",
          "shell.execute_reply": "2021-07-19T07:46:53.317388Z",
          "shell.execute_reply.started": "2021-07-19T07:46:53.277510Z"
        },
        "id": "sKt-L3EnKFJ7",
        "outputId": "b52ac8e3-b0ad-46cc-8b1f-d8d738fbd94d",
        "trusted": true
      },
      "outputs": [
        {
          "data": {
            "text/plain": [
              "country                                                                      Afghanistan\n",
              "iso_code                                                                             ABW\n",
              "date                                                                 2020-12-02 00:00:00\n",
              "total_vaccinations                                                                     0\n",
              "people_vaccinated                                                                      0\n",
              "people_fully_vaccinated                                                                0\n",
              "daily_vaccinations_raw                                                                 0\n",
              "daily_vaccinations                                                                     0\n",
              "total_vaccinations_per_hundred                                                         0\n",
              "people_vaccinated_per_hundred                                                          0\n",
              "people_fully_vaccinated_per_hundred                                                    0\n",
              "daily_vaccinations_per_million                                                         0\n",
              "vaccines                                                              Abdala, Soberana02\n",
              "source_name                            Africa Centres for Disease Control and Prevention\n",
              "source_website                         http://103.247.238.92/webportal/pages/covid19-...\n",
              "year                                                                                2020\n",
              "month                                                                                  1\n",
              "day                                                                                    1\n",
              "dtype: object"
            ]
          },
          "execution_count": 54,
          "metadata": {
            "tags": []
          },
          "output_type": "execute_result"
        }
      ],
      "source": [
        "vaccinations_df.min()"
      ]
    },
    {
      "cell_type": "code",
      "execution_count": null,
      "metadata": {
        "colab": {
          "base_uri": "https://localhost:8080/"
        },
        "execution": {
          "iopub.execute_input": "2021-07-19T07:46:53.321212Z",
          "iopub.status.busy": "2021-07-19T07:46:53.320829Z",
          "iopub.status.idle": "2021-07-19T07:46:53.360913Z",
          "shell.execute_reply": "2021-07-19T07:46:53.359199Z",
          "shell.execute_reply.started": "2021-07-19T07:46:53.321168Z"
        },
        "id": "UAwzISlAKFJ8",
        "outputId": "e8ea4716-a14b-4a79-d377-31d4f3eb871f",
        "trusted": true
      },
      "outputs": [
        {
          "data": {
            "text/plain": [
              "country                                                                         Zimbabwe\n",
              "iso_code                                                                             ZWE\n",
              "date                                                                 2021-07-18 00:00:00\n",
              "total_vaccinations                                                           1.45656e+09\n",
              "people_vaccinated                                                               6.22e+08\n",
              "people_fully_vaccinated                                                      2.23299e+08\n",
              "daily_vaccinations_raw                                                        2.4741e+07\n",
              "daily_vaccinations                                                           2.24243e+07\n",
              "total_vaccinations_per_hundred                                                    232.35\n",
              "people_vaccinated_per_hundred                                                     116.66\n",
              "people_fully_vaccinated_per_hundred                                               115.69\n",
              "daily_vaccinations_per_million                                                    118759\n",
              "vaccines                                                                       Sputnik V\n",
              "source_name                                                    World Health Organization\n",
              "source_website                         https://www.vacunate.gov.py/index-listado-vacu...\n",
              "year                                                                                2021\n",
              "month                                                                                 12\n",
              "day                                                                                   31\n",
              "dtype: object"
            ]
          },
          "execution_count": 55,
          "metadata": {
            "tags": []
          },
          "output_type": "execute_result"
        }
      ],
      "source": [
        "vaccinations_df.max()"
      ]
    },
    {
      "cell_type": "markdown",
      "metadata": {
        "id": "rWUXdPNvBBZD"
      },
      "source": [
        "Explore the country Column\n"
      ]
    },
    {
      "cell_type": "code",
      "execution_count": null,
      "metadata": {
        "colab": {
          "base_uri": "https://localhost:8080/"
        },
        "execution": {
          "iopub.execute_input": "2021-07-19T07:46:53.363015Z",
          "iopub.status.busy": "2021-07-19T07:46:53.362623Z",
          "iopub.status.idle": "2021-07-19T07:46:53.384422Z",
          "shell.execute_reply": "2021-07-19T07:46:53.382955Z",
          "shell.execute_reply.started": "2021-07-19T07:46:53.362977Z"
        },
        "id": "e3vGI9LmKFJ8",
        "outputId": "d0c0fffc-6759-4c23-8b1f-38a8ccb6d701",
        "trusted": true
      },
      "outputs": [
        {
          "data": {
            "text/plain": [
              "Latvia                             227\n",
              "Norway                             226\n",
              "England                            222\n",
              "Scotland                           222\n",
              "Canada                             217\n",
              "                                  ... \n",
              "Niue                                16\n",
              "Pitcairn                             7\n",
              "Bonaire Sint Eustatius and Saba      1\n",
              "Haiti                                1\n",
              "Turkmenistan                         1\n",
              "Name: country, Length: 219, dtype: int64"
            ]
          },
          "execution_count": 56,
          "metadata": {
            "tags": []
          },
          "output_type": "execute_result"
        }
      ],
      "source": [
        "vaccinations_df.country.value_counts()"
      ]
    },
    {
      "cell_type": "code",
      "execution_count": null,
      "metadata": {
        "colab": {
          "base_uri": "https://localhost:8080/"
        },
        "execution": {
          "iopub.execute_input": "2021-07-19T07:46:53.386106Z",
          "iopub.status.busy": "2021-07-19T07:46:53.385776Z",
          "iopub.status.idle": "2021-07-19T07:46:53.404216Z",
          "shell.execute_reply": "2021-07-19T07:46:53.402251Z",
          "shell.execute_reply.started": "2021-07-19T07:46:53.386074Z"
        },
        "id": "P6rTrHaSKFJ8",
        "outputId": "89fde418-90ef-4ce1-a578-b3b8ff4efc28",
        "trusted": true
      },
      "outputs": [
        {
          "data": {
            "text/plain": [
              "0        Afghanistan\n",
              "1        Afghanistan\n",
              "2        Afghanistan\n",
              "3        Afghanistan\n",
              "4        Afghanistan\n",
              "            ...     \n",
              "31554       Zimbabwe\n",
              "31555       Zimbabwe\n",
              "31556       Zimbabwe\n",
              "31557       Zimbabwe\n",
              "31558       Zimbabwe\n",
              "Name: country, Length: 31559, dtype: object"
            ]
          },
          "execution_count": 57,
          "metadata": {
            "tags": []
          },
          "output_type": "execute_result"
        }
      ],
      "source": [
        "vaccinations_df.country"
      ]
    },
    {
      "cell_type": "code",
      "execution_count": null,
      "metadata": {
        "colab": {
          "base_uri": "https://localhost:8080/"
        },
        "execution": {
          "iopub.execute_input": "2021-07-19T07:46:53.407024Z",
          "iopub.status.busy": "2021-07-19T07:46:53.406422Z",
          "iopub.status.idle": "2021-07-19T07:46:53.422507Z",
          "shell.execute_reply": "2021-07-19T07:46:53.421627Z",
          "shell.execute_reply.started": "2021-07-19T07:46:53.406984Z"
        },
        "id": "pALjM9dTKFJ8",
        "outputId": "c7ec1d73-2fd9-4908-c87e-2f60d357b7fc",
        "trusted": true
      },
      "outputs": [
        {
          "data": {
            "text/plain": [
              "219"
            ]
          },
          "execution_count": 58,
          "metadata": {
            "tags": []
          },
          "output_type": "execute_result"
        }
      ],
      "source": [
        "vaccinations_df.country.nunique() # From country column we checked how many values are there. "
      ]
    },
    {
      "cell_type": "markdown",
      "metadata": {
        "id": "-dqrqSBfKFJ8"
      },
      "source": [
        "Explore the min and max of fully vaccinated people. "
      ]
    },
    {
      "cell_type": "code",
      "execution_count": null,
      "metadata": {
        "colab": {
          "base_uri": "https://localhost:8080/"
        },
        "execution": {
          "iopub.execute_input": "2021-07-19T07:46:53.428421Z",
          "iopub.status.busy": "2021-07-19T07:46:53.427478Z",
          "iopub.status.idle": "2021-07-19T07:46:53.436235Z",
          "shell.execute_reply": "2021-07-19T07:46:53.435114Z",
          "shell.execute_reply.started": "2021-07-19T07:46:53.428373Z"
        },
        "id": "epfCpaxGKFJ8",
        "outputId": "efaf9ad1-e0a5-41bf-feb2-876f7df160a4",
        "trusted": true
      },
      "outputs": [
        {
          "data": {
            "text/plain": [
              "0.0"
            ]
          },
          "execution_count": 59,
          "metadata": {
            "tags": []
          },
          "output_type": "execute_result"
        }
      ],
      "source": [
        "vaccinations_df.people_fully_vaccinated.min()"
      ]
    },
    {
      "cell_type": "code",
      "execution_count": null,
      "metadata": {
        "colab": {
          "base_uri": "https://localhost:8080/"
        },
        "execution": {
          "iopub.execute_input": "2021-07-19T07:46:53.439564Z",
          "iopub.status.busy": "2021-07-19T07:46:53.438743Z",
          "iopub.status.idle": "2021-07-19T07:46:53.452066Z",
          "shell.execute_reply": "2021-07-19T07:46:53.450314Z",
          "shell.execute_reply.started": "2021-07-19T07:46:53.439480Z"
        },
        "id": "0oKVZZFHKFJ9",
        "outputId": "da077bae-a198-44df-d373-7ab868df4238",
        "trusted": true
      },
      "outputs": [
        {
          "data": {
            "text/plain": [
              "223299000.0"
            ]
          },
          "execution_count": 60,
          "metadata": {
            "tags": []
          },
          "output_type": "execute_result"
        }
      ],
      "source": [
        "vaccinations_df.people_fully_vaccinated.max()"
      ]
    },
    {
      "cell_type": "markdown",
      "metadata": {
        "id": "4uij5xnbKFJ9"
      },
      "source": [
        "Explore the min and max date."
      ]
    },
    {
      "cell_type": "code",
      "execution_count": null,
      "metadata": {
        "colab": {
          "base_uri": "https://localhost:8080/"
        },
        "execution": {
          "iopub.execute_input": "2021-07-19T07:46:53.454357Z",
          "iopub.status.busy": "2021-07-19T07:46:53.453955Z",
          "iopub.status.idle": "2021-07-19T07:46:53.467205Z",
          "shell.execute_reply": "2021-07-19T07:46:53.465617Z",
          "shell.execute_reply.started": "2021-07-19T07:46:53.454323Z"
        },
        "id": "5ajJhoDBKFJ9",
        "outputId": "04df3f82-c7e6-4ef2-cb50-4e3ca502abb4",
        "trusted": true
      },
      "outputs": [
        {
          "data": {
            "text/plain": [
              "Timestamp('2020-12-02 00:00:00')"
            ]
          },
          "execution_count": 61,
          "metadata": {
            "tags": []
          },
          "output_type": "execute_result"
        }
      ],
      "source": [
        "vaccinations_df.date.min()"
      ]
    },
    {
      "cell_type": "code",
      "execution_count": null,
      "metadata": {
        "colab": {
          "base_uri": "https://localhost:8080/"
        },
        "execution": {
          "iopub.execute_input": "2021-07-19T07:46:53.469544Z",
          "iopub.status.busy": "2021-07-19T07:46:53.469172Z",
          "iopub.status.idle": "2021-07-19T07:46:53.483502Z",
          "shell.execute_reply": "2021-07-19T07:46:53.481810Z",
          "shell.execute_reply.started": "2021-07-19T07:46:53.469512Z"
        },
        "id": "ettd2A5jKFJ9",
        "outputId": "cc8c80ef-2208-474d-bb68-84b7f2bcff7d",
        "trusted": true
      },
      "outputs": [
        {
          "data": {
            "text/plain": [
              "Timestamp('2021-07-18 00:00:00')"
            ]
          },
          "execution_count": 62,
          "metadata": {
            "tags": []
          },
          "output_type": "execute_result"
        }
      ],
      "source": [
        "vaccinations_df.date.max()"
      ]
    },
    {
      "cell_type": "markdown",
      "metadata": {
        "id": "fbZEIU3i8CU8"
      },
      "source": [
        "Explore The Number of daily vaccinations dynamic"
      ]
    },
    {
      "cell_type": "code",
      "execution_count": null,
      "metadata": {
        "colab": {
          "base_uri": "https://localhost:8080/",
          "height": 513
        },
        "execution": {
          "iopub.execute_input": "2021-07-19T07:46:53.486199Z",
          "iopub.status.busy": "2021-07-19T07:46:53.485544Z",
          "iopub.status.idle": "2021-07-19T07:47:01.517367Z",
          "shell.execute_reply": "2021-07-19T07:47:01.516058Z",
          "shell.execute_reply.started": "2021-07-19T07:46:53.486160Z"
        },
        "id": "2wKpwINh79Fn",
        "outputId": "ac465959-46ee-4035-e5f0-3b2e335f39a8",
        "trusted": true
      },
      "outputs": [
        {
          "data": {
            "image/png": "[encoded data removed]",
            "text/plain": [
              "<Figure size 1152x576 with 1 Axes>"
            ]
          },
          "metadata": {
            "needs_background": "light",
            "tags": []
          },
          "output_type": "display_data"
        }
      ],
      "source": [
        "plt.figure(figsize=(16,8))\n",
        "sns.lineplot(x=vaccinations_df.date, y=vaccinations_df.daily_vaccinations)\n",
        "plt.title('The Number of daily vaccinations dynamic')\n",
        "plt.show()"
      ]
    },
    {
      "cell_type": "code",
      "execution_count": null,
      "metadata": {
        "colab": {
          "base_uri": "https://localhost:8080/",
          "height": 513
        },
        "id": "oCgI2zdeojej",
        "outputId": "9590f9bb-0483-4684-81fe-c7cab02eb18d"
      },
      "outputs": [
        {
          "data": {
            "image/png": "[encoded data removed]",
            "text/plain": [
              "<Figure size 1152x576 with 1 Axes>"
            ]
          },
          "metadata": {
            "needs_background": "light",
            "tags": []
          },
          "output_type": "display_data"
        }
      ],
      "source": [
        "plt.figure(figsize=(16,8))\n",
        "sns.lineplot(x=vaccinations_df.date, y=vaccinations_df.total_vaccinations)\n",
        "plt.title('The Number of total vaccinations dynamic')\n",
        "plt.show()"
      ]
    },
    {
      "cell_type": "markdown",
      "metadata": {
        "id": "26C-6X-g_rky"
      },
      "source": [
        "Explore the Vaccination procedure go on rapidly from which date."
      ]
    },
    {
      "cell_type": "code",
      "execution_count": null,
      "metadata": {
        "colab": {
          "base_uri": "https://localhost:8080/"
        },
        "execution": {
          "iopub.execute_input": "2021-07-19T07:47:01.519973Z",
          "iopub.status.busy": "2021-07-19T07:47:01.519432Z",
          "iopub.status.idle": "2021-07-19T07:47:01.582202Z",
          "shell.execute_reply": "2021-07-19T07:47:01.580883Z",
          "shell.execute_reply.started": "2021-07-19T07:47:01.519918Z"
        },
        "id": "A1oEhX009fOb",
        "outputId": "f3c34e48-a04a-4424-b3bd-343da83fe108",
        "trusted": true
      },
      "outputs": [
        {
          "name": "stdout",
          "output_type": "stream",
          "text": [
            "Index(['China', 'India', 'United States', 'Brazil', 'Germany'], dtype='object', name='country')\n"
          ]
        }
      ],
      "source": [
        "countries = vaccinations_df.groupby('country')['total_vaccinations'].max().sort_values(ascending= False)[:5].index # We groupped it on basis of country according to their total vaccinations.\n",
        "# Then arranged them in descending order. \n",
        "print(countries)\n",
        "\n",
        "top_countries = pd.DataFrame(columns= vaccinations_df.columns) # We made dataframe with name of top_countries and imported the name of columns of  vaccination dataframe. \n",
        "\n",
        "for country in countries: # Now with the help of this new loop we will add the country name in top_countries data_frame. \n",
        "  top_countries = top_countries.append(vaccinations_df.loc[vaccinations_df['country'] == country])"
      ]
    },
    {
      "cell_type": "code",
      "execution_count": null,
      "metadata": {
        "colab": {
          "base_uri": "https://localhost:8080/",
          "height": 566
        },
        "execution": {
          "iopub.execute_input": "2021-07-19T07:47:01.584465Z",
          "iopub.status.busy": "2021-07-19T07:47:01.583892Z",
          "iopub.status.idle": "2021-07-19T07:47:02.218024Z",
          "shell.execute_reply": "2021-07-19T07:47:02.216853Z",
          "shell.execute_reply.started": "2021-07-19T07:47:01.584416Z"
        },
        "id": "LEhaye_M-np_",
        "outputId": "72f87c11-f318-41fb-f000-f04abe749b52",
        "trusted": true
      },
      "outputs": [
        {
          "name": "stderr",
          "output_type": "stream",
          "text": [
            "/usr/local/lib/python3.7/dist-packages/seaborn/_decorators.py:43: FutureWarning: Pass the following variables as keyword args: x, y. From version 0.12, the only valid positional argument will be `data`, and passing other arguments without an explicit keyword will result in an error or misinterpretation.\n",
            "  FutureWarning\n"
          ]
        },
        {
          "data": {
            "image/png": "[encoded data removed]",
            "text/plain": [
              "<Figure size 1440x576 with 1 Axes>"
            ]
          },
          "metadata": {
            "needs_background": "light",
            "tags": []
          },
          "output_type": "display_data"
        }
      ],
      "source": [
        "plt.figure(figsize=(20,8))\n",
        "\n",
        "sns.lineplot(top_countries['date'], \n",
        "             top_countries['daily_vaccinations_per_million'], \n",
        "             hue= top_countries['country'])\n",
        "\n",
        "plt.title('Vaccination procedure go on rapidly');"
      ]
    },
    {
      "cell_type": "markdown",
      "metadata": {
        "id": "Kdqfd-pXKFJ-"
      },
      "source": [
        "#### Q1: Which country has most number of fully vaccinated people?"
      ]
    },
    {
      "cell_type": "code",
      "execution_count": null,
      "metadata": {
        "execution": {
          "iopub.execute_input": "2021-07-19T07:47:02.220305Z",
          "iopub.status.busy": "2021-07-19T07:47:02.219539Z",
          "iopub.status.idle": "2021-07-19T07:47:02.234553Z",
          "shell.execute_reply": "2021-07-19T07:47:02.233054Z",
          "shell.execute_reply.started": "2021-07-19T07:47:02.220235Z"
        },
        "id": "fqGLxnIeKFJ-",
        "trusted": true
      },
      "outputs": [],
      "source": [
        "fully_vaccinated = vaccinations_df.groupby(\"country\")[\"people_fully_vaccinated\"].max().sort_values(ascending= False).head(25)"
      ]
    },
    {
      "cell_type": "code",
      "execution_count": null,
      "metadata": {
        "colab": {
          "base_uri": "https://localhost:8080/",
          "height": 817
        },
        "execution": {
          "iopub.execute_input": "2021-07-19T07:47:02.236731Z",
          "iopub.status.busy": "2021-07-19T07:47:02.236105Z",
          "iopub.status.idle": "2021-07-19T07:47:02.259489Z",
          "shell.execute_reply": "2021-07-19T07:47:02.258150Z",
          "shell.execute_reply.started": "2021-07-19T07:47:02.236637Z"
        },
        "id": "0-sj0YaOKFJ-",
        "outputId": "5e4c2c1c-c1d8-40e7-bd68-cdb3991fc998",
        "trusted": true
      },
      "outputs": [
        {
          "data": {
            "text/html": [
              "<div>\n",
              "<style scoped>\n",
              "    .dataframe tbody tr th:only-of-type {\n",
              "        vertical-align: middle;\n",
              "    }\n",
              "\n",
              "    .dataframe tbody tr th {\n",
              "        vertical-align: top;\n",
              "    }\n",
              "\n",
              "    .dataframe thead th {\n",
              "        text-align: right;\n",
              "    }\n",
              "</style>\n",
              "<table border=\"1\" class=\"dataframe\">\n",
              "  <thead>\n",
              "    <tr style=\"text-align: right;\">\n",
              "      <th></th>\n",
              "      <th>country</th>\n",
              "      <th>people_fully_vaccinated</th>\n",
              "    </tr>\n",
              "  </thead>\n",
              "  <tbody>\n",
              "    <tr>\n",
              "      <th>0</th>\n",
              "      <td>China</td>\n",
              "      <td>223299000.0</td>\n",
              "    </tr>\n",
              "    <tr>\n",
              "      <th>1</th>\n",
              "      <td>United States</td>\n",
              "      <td>161232483.0</td>\n",
              "    </tr>\n",
              "    <tr>\n",
              "      <th>2</th>\n",
              "      <td>India</td>\n",
              "      <td>83037953.0</td>\n",
              "    </tr>\n",
              "    <tr>\n",
              "      <th>3</th>\n",
              "      <td>Germany</td>\n",
              "      <td>38194316.0</td>\n",
              "    </tr>\n",
              "    <tr>\n",
              "      <th>4</th>\n",
              "      <td>United Kingdom</td>\n",
              "      <td>35970849.0</td>\n",
              "    </tr>\n",
              "    <tr>\n",
              "      <th>5</th>\n",
              "      <td>Brazil</td>\n",
              "      <td>33990366.0</td>\n",
              "    </tr>\n",
              "    <tr>\n",
              "      <th>6</th>\n",
              "      <td>England</td>\n",
              "      <td>30107863.0</td>\n",
              "    </tr>\n",
              "    <tr>\n",
              "      <th>7</th>\n",
              "      <td>Japan</td>\n",
              "      <td>27411127.0</td>\n",
              "    </tr>\n",
              "    <tr>\n",
              "      <th>8</th>\n",
              "      <td>France</td>\n",
              "      <td>27070389.0</td>\n",
              "    </tr>\n",
              "    <tr>\n",
              "      <th>9</th>\n",
              "      <td>Italy</td>\n",
              "      <td>26319734.0</td>\n",
              "    </tr>\n",
              "    <tr>\n",
              "      <th>10</th>\n",
              "      <td>Spain</td>\n",
              "      <td>23372796.0</td>\n",
              "    </tr>\n",
              "    <tr>\n",
              "      <th>11</th>\n",
              "      <td>Mexico</td>\n",
              "      <td>21626694.0</td>\n",
              "    </tr>\n",
              "    <tr>\n",
              "      <th>12</th>\n",
              "      <td>Turkey</td>\n",
              "      <td>20832201.0</td>\n",
              "    </tr>\n",
              "    <tr>\n",
              "      <th>13</th>\n",
              "      <td>Russia</td>\n",
              "      <td>20695960.0</td>\n",
              "    </tr>\n",
              "    <tr>\n",
              "      <th>14</th>\n",
              "      <td>Canada</td>\n",
              "      <td>18756816.0</td>\n",
              "    </tr>\n",
              "    <tr>\n",
              "      <th>15</th>\n",
              "      <td>Indonesia</td>\n",
              "      <td>16274150.0</td>\n",
              "    </tr>\n",
              "    <tr>\n",
              "      <th>16</th>\n",
              "      <td>Poland</td>\n",
              "      <td>16211976.0</td>\n",
              "    </tr>\n",
              "    <tr>\n",
              "      <th>17</th>\n",
              "      <td>Chile</td>\n",
              "      <td>11713620.0</td>\n",
              "    </tr>\n",
              "    <tr>\n",
              "      <th>18</th>\n",
              "      <td>Colombia</td>\n",
              "      <td>10255069.0</td>\n",
              "    </tr>\n",
              "    <tr>\n",
              "      <th>19</th>\n",
              "      <td>Morocco</td>\n",
              "      <td>9620665.0</td>\n",
              "    </tr>\n",
              "    <tr>\n",
              "      <th>20</th>\n",
              "      <td>Netherlands</td>\n",
              "      <td>7419262.0</td>\n",
              "    </tr>\n",
              "    <tr>\n",
              "      <th>21</th>\n",
              "      <td>United Arab Emirates</td>\n",
              "      <td>6735166.0</td>\n",
              "    </tr>\n",
              "    <tr>\n",
              "      <th>22</th>\n",
              "      <td>South Korea</td>\n",
              "      <td>6565472.0</td>\n",
              "    </tr>\n",
              "    <tr>\n",
              "      <th>23</th>\n",
              "      <td>Argentina</td>\n",
              "      <td>5360619.0</td>\n",
              "    </tr>\n",
              "    <tr>\n",
              "      <th>24</th>\n",
              "      <td>Hungary</td>\n",
              "      <td>5293132.0</td>\n",
              "    </tr>\n",
              "  </tbody>\n",
              "</table>\n",
              "</div>"
            ],
            "text/plain": [
              "                 country  people_fully_vaccinated\n",
              "0                  China              223299000.0\n",
              "1          United States              161232483.0\n",
              "2                  India               83037953.0\n",
              "3                Germany               38194316.0\n",
              "4         United Kingdom               35970849.0\n",
              "5                 Brazil               33990366.0\n",
              "6                England               30107863.0\n",
              "7                  Japan               27411127.0\n",
              "8                 France               27070389.0\n",
              "9                  Italy               26319734.0\n",
              "10                 Spain               23372796.0\n",
              "11                Mexico               21626694.0\n",
              "12                Turkey               20832201.0\n",
              "13                Russia               20695960.0\n",
              "14                Canada               18756816.0\n",
              "15             Indonesia               16274150.0\n",
              "16                Poland               16211976.0\n",
              "17                 Chile               11713620.0\n",
              "18              Colombia               10255069.0\n",
              "19               Morocco                9620665.0\n",
              "20           Netherlands                7419262.0\n",
              "21  United Arab Emirates                6735166.0\n",
              "22           South Korea                6565472.0\n",
              "23             Argentina                5360619.0\n",
              "24               Hungary                5293132.0"
            ]
          },
          "execution_count": 68,
          "metadata": {
            "tags": []
          },
          "output_type": "execute_result"
        }
      ],
      "source": [
        "fully_vaccinated.reset_index()"
      ]
    },
    {
      "cell_type": "code",
      "execution_count": null,
      "metadata": {
        "colab": {
          "base_uri": "https://localhost:8080/",
          "height": 621
        },
        "execution": {
          "iopub.execute_input": "2021-07-19T07:47:02.261739Z",
          "iopub.status.busy": "2021-07-19T07:47:02.261381Z",
          "iopub.status.idle": "2021-07-19T07:47:02.893473Z",
          "shell.execute_reply": "2021-07-19T07:47:02.891827Z",
          "shell.execute_reply.started": "2021-07-19T07:47:02.261690Z"
        },
        "id": "f848J13WKFJ-",
        "outputId": "ba464cf5-6087-4e8a-dd5c-0c10097944c9",
        "trusted": true
      },
      "outputs": [
        {
          "data": {
            "image/png": "[encoded data removed]",
            "text/plain": [
              "<Figure size 1152x720 with 1 Axes>"
            ]
          },
          "metadata": {
            "needs_background": "light",
            "tags": []
          },
          "output_type": "display_data"
        }
      ],
      "source": [
        "plt.figure(figsize=(16,10))\n",
        "ax = sns.barplot(x=fully_vaccinated, y=fully_vaccinated.index)\n",
        "\n",
        "plt.xlabel(\"Fully Vaccinated\")\n",
        "plt.ylabel(\"Country\");\n",
        "plt.title('Which country has most number of fully vaccinated people?');\n",
        "\n",
        "# The concept of patches need to be taught. \n",
        "for patch in ax.patches:\n",
        "    width = patch.get_width() # it get's the width of the bar\n",
        "    height = patch.get_height() # it get's the height of the bar\n",
        "    x = patch.get_x()# It get's the x coordinate from where the bar starts \n",
        "    y = patch.get_y()# It get's the y coordinate from where the bar starts\n",
        "    \n",
        "    plt.text(width + x, height + y, ' {:.1f} '.format(width)) # It finds the x and y coordinte where the text will be written."
      ]
    },
    {
      "cell_type": "markdown",
      "metadata": {
        "id": "JcLPLANxKFJ_"
      },
      "source": [
        "#### Q2: Daily COVID-19 vaccine doses administered per million people ?"
      ]
    },
    {
      "cell_type": "code",
      "execution_count": null,
      "metadata": {
        "execution": {
          "iopub.execute_input": "2021-07-19T07:47:02.895697Z",
          "iopub.status.busy": "2021-07-19T07:47:02.895200Z",
          "iopub.status.idle": "2021-07-19T07:47:02.908119Z",
          "shell.execute_reply": "2021-07-19T07:47:02.906072Z",
          "shell.execute_reply.started": "2021-07-19T07:47:02.895626Z"
        },
        "id": "MBCMZPURKFJ_",
        "trusted": true
      },
      "outputs": [],
      "source": [
        "daily_vaccinations_per_million = vaccinations_df.groupby(\"country\")[\"daily_vaccinations_per_million\"].max().sort_values(ascending= False).head(15)"
      ]
    },
    {
      "cell_type": "code",
      "execution_count": null,
      "metadata": {
        "colab": {
          "base_uri": "https://localhost:8080/",
          "height": 510
        },
        "execution": {
          "iopub.execute_input": "2021-07-19T07:47:02.910441Z",
          "iopub.status.busy": "2021-07-19T07:47:02.909954Z",
          "iopub.status.idle": "2021-07-19T07:47:02.930811Z",
          "shell.execute_reply": "2021-07-19T07:47:02.929510Z",
          "shell.execute_reply.started": "2021-07-19T07:47:02.910390Z"
        },
        "id": "3Ls6VTxhKFJ_",
        "outputId": "1813872c-c7b4-4be3-8e21-685648d3fc26",
        "trusted": true
      },
      "outputs": [
        {
          "data": {
            "text/html": [
              "<div>\n",
              "<style scoped>\n",
              "    .dataframe tbody tr th:only-of-type {\n",
              "        vertical-align: middle;\n",
              "    }\n",
              "\n",
              "    .dataframe tbody tr th {\n",
              "        vertical-align: top;\n",
              "    }\n",
              "\n",
              "    .dataframe thead th {\n",
              "        text-align: right;\n",
              "    }\n",
              "</style>\n",
              "<table border=\"1\" class=\"dataframe\">\n",
              "  <thead>\n",
              "    <tr style=\"text-align: right;\">\n",
              "      <th></th>\n",
              "      <th>country</th>\n",
              "      <th>daily_vaccinations_per_million</th>\n",
              "    </tr>\n",
              "  </thead>\n",
              "  <tbody>\n",
              "    <tr>\n",
              "      <th>0</th>\n",
              "      <td>Bhutan</td>\n",
              "      <td>118759.0</td>\n",
              "    </tr>\n",
              "    <tr>\n",
              "      <th>1</th>\n",
              "      <td>Falkland Islands</td>\n",
              "      <td>54264.0</td>\n",
              "    </tr>\n",
              "    <tr>\n",
              "      <th>2</th>\n",
              "      <td>Niue</td>\n",
              "      <td>53770.0</td>\n",
              "    </tr>\n",
              "    <tr>\n",
              "      <th>3</th>\n",
              "      <td>Cook Islands</td>\n",
              "      <td>46231.0</td>\n",
              "    </tr>\n",
              "    <tr>\n",
              "      <th>4</th>\n",
              "      <td>Mongolia</td>\n",
              "      <td>38271.0</td>\n",
              "    </tr>\n",
              "    <tr>\n",
              "      <th>5</th>\n",
              "      <td>Gibraltar</td>\n",
              "      <td>31700.0</td>\n",
              "    </tr>\n",
              "    <tr>\n",
              "      <th>6</th>\n",
              "      <td>Wallis and Futuna</td>\n",
              "      <td>30500.0</td>\n",
              "    </tr>\n",
              "    <tr>\n",
              "      <th>7</th>\n",
              "      <td>Saint Helena</td>\n",
              "      <td>27178.0</td>\n",
              "    </tr>\n",
              "    <tr>\n",
              "      <th>8</th>\n",
              "      <td>Aruba</td>\n",
              "      <td>25092.0</td>\n",
              "    </tr>\n",
              "    <tr>\n",
              "      <th>9</th>\n",
              "      <td>Seychelles</td>\n",
              "      <td>24415.0</td>\n",
              "    </tr>\n",
              "    <tr>\n",
              "      <th>10</th>\n",
              "      <td>Andorra</td>\n",
              "      <td>22481.0</td>\n",
              "    </tr>\n",
              "    <tr>\n",
              "      <th>11</th>\n",
              "      <td>Iceland</td>\n",
              "      <td>22113.0</td>\n",
              "    </tr>\n",
              "    <tr>\n",
              "      <th>12</th>\n",
              "      <td>Anguilla</td>\n",
              "      <td>22064.0</td>\n",
              "    </tr>\n",
              "    <tr>\n",
              "      <th>13</th>\n",
              "      <td>Nauru</td>\n",
              "      <td>22060.0</td>\n",
              "    </tr>\n",
              "    <tr>\n",
              "      <th>14</th>\n",
              "      <td>Israel</td>\n",
              "      <td>21370.0</td>\n",
              "    </tr>\n",
              "  </tbody>\n",
              "</table>\n",
              "</div>"
            ],
            "text/plain": [
              "              country  daily_vaccinations_per_million\n",
              "0              Bhutan                        118759.0\n",
              "1    Falkland Islands                         54264.0\n",
              "2                Niue                         53770.0\n",
              "3        Cook Islands                         46231.0\n",
              "4            Mongolia                         38271.0\n",
              "5           Gibraltar                         31700.0\n",
              "6   Wallis and Futuna                         30500.0\n",
              "7        Saint Helena                         27178.0\n",
              "8               Aruba                         25092.0\n",
              "9          Seychelles                         24415.0\n",
              "10            Andorra                         22481.0\n",
              "11            Iceland                         22113.0\n",
              "12           Anguilla                         22064.0\n",
              "13              Nauru                         22060.0\n",
              "14             Israel                         21370.0"
            ]
          },
          "execution_count": 71,
          "metadata": {
            "tags": []
          },
          "output_type": "execute_result"
        }
      ],
      "source": [
        "daily_vaccinations_per_million.reset_index()"
      ]
    },
    {
      "cell_type": "code",
      "execution_count": null,
      "metadata": {
        "colab": {
          "base_uri": "https://localhost:8080/",
          "height": 513
        },
        "execution": {
          "iopub.execute_input": "2021-07-19T07:47:02.932853Z",
          "iopub.status.busy": "2021-07-19T07:47:02.932490Z",
          "iopub.status.idle": "2021-07-19T07:47:03.363712Z",
          "shell.execute_reply": "2021-07-19T07:47:03.362716Z",
          "shell.execute_reply.started": "2021-07-19T07:47:02.932820Z"
        },
        "id": "3X_TBQsbKFJ_",
        "outputId": "0a0211e8-93f9-4d11-a636-cdaa85733622",
        "trusted": true
      },
      "outputs": [
        {
          "data": {
            "image/png": "[encoded data removed]",
            "text/plain": [
              "<Figure size 864x576 with 1 Axes>"
            ]
          },
          "metadata": {
            "needs_background": "light",
            "tags": []
          },
          "output_type": "display_data"
        }
      ],
      "source": [
        "plt.figure(figsize=(12,8))\n",
        "ax = sns.barplot(x=daily_vaccinations_per_million, y=daily_vaccinations_per_million.index )\n",
        "plt.xlabel(\"daily vaccinations per million\")\n",
        "plt.ylabel(\"Country\")\n",
        "plt.title(\"Daily COVID-19 vaccine doses administered per million people\");\n",
        "\n",
        "for patch in ax.patches:\n",
        "    width = patch.get_width()\n",
        "    height = patch.get_height()\n",
        "    x = patch.get_x()\n",
        "    y = patch.get_y()\n",
        "    \n",
        "    plt.text(width + x, height + y, ' {:.1f} '.format(width))"
      ]
    },
    {
      "cell_type": "markdown",
      "metadata": {
        "id": "By2rg5h9KFJ_"
      },
      "source": [
        "#### Q3: How many people daily vaccinated in England?"
      ]
    },
    {
      "cell_type": "code",
      "execution_count": null,
      "metadata": {
        "colab": {
          "base_uri": "https://localhost:8080/",
          "height": 770
        },
        "execution": {
          "iopub.execute_input": "2021-07-19T07:47:03.365515Z",
          "iopub.status.busy": "2021-07-19T07:47:03.365160Z",
          "iopub.status.idle": "2021-07-19T07:47:03.420721Z",
          "shell.execute_reply": "2021-07-19T07:47:03.419170Z",
          "shell.execute_reply.started": "2021-07-19T07:47:03.365476Z"
        },
        "id": "qeUMISaFKFKA",
        "outputId": "afdada97-ccc4-4e3c-ecae-ed1824077661",
        "trusted": true
      },
      "outputs": [
        {
          "data": {
            "text/html": [
              "<div>\n",
              "<style scoped>\n",
              "    .dataframe tbody tr th:only-of-type {\n",
              "        vertical-align: middle;\n",
              "    }\n",
              "\n",
              "    .dataframe tbody tr th {\n",
              "        vertical-align: top;\n",
              "    }\n",
              "\n",
              "    .dataframe thead th {\n",
              "        text-align: right;\n",
              "    }\n",
              "</style>\n",
              "<table border=\"1\" class=\"dataframe\">\n",
              "  <thead>\n",
              "    <tr style=\"text-align: right;\">\n",
              "      <th></th>\n",
              "      <th>country</th>\n",
              "      <th>iso_code</th>\n",
              "      <th>date</th>\n",
              "      <th>total_vaccinations</th>\n",
              "      <th>people_vaccinated</th>\n",
              "      <th>people_fully_vaccinated</th>\n",
              "      <th>daily_vaccinations_raw</th>\n",
              "      <th>daily_vaccinations</th>\n",
              "      <th>total_vaccinations_per_hundred</th>\n",
              "      <th>people_vaccinated_per_hundred</th>\n",
              "      <th>people_fully_vaccinated_per_hundred</th>\n",
              "      <th>daily_vaccinations_per_million</th>\n",
              "      <th>vaccines</th>\n",
              "      <th>source_name</th>\n",
              "      <th>source_website</th>\n",
              "      <th>year</th>\n",
              "      <th>month</th>\n",
              "      <th>day</th>\n",
              "    </tr>\n",
              "  </thead>\n",
              "  <tbody>\n",
              "    <tr>\n",
              "      <th>8481</th>\n",
              "      <td>England</td>\n",
              "      <td>OWID_ENG</td>\n",
              "      <td>2020-12-08</td>\n",
              "      <td>5302.0</td>\n",
              "      <td>5302.0</td>\n",
              "      <td>0.0</td>\n",
              "      <td>0.0</td>\n",
              "      <td>0.0</td>\n",
              "      <td>0.01</td>\n",
              "      <td>0.01</td>\n",
              "      <td>0.00</td>\n",
              "      <td>0.0</td>\n",
              "      <td>Moderna, Oxford/AstraZeneca, Pfizer/BioNTech</td>\n",
              "      <td>Government of the United Kingdom</td>\n",
              "      <td>https://coronavirus.data.gov.uk/details/vaccin...</td>\n",
              "      <td>2020</td>\n",
              "      <td>12</td>\n",
              "      <td>8</td>\n",
              "    </tr>\n",
              "    <tr>\n",
              "      <th>8482</th>\n",
              "      <td>England</td>\n",
              "      <td>OWID_ENG</td>\n",
              "      <td>2020-12-09</td>\n",
              "      <td>14890.0</td>\n",
              "      <td>14890.0</td>\n",
              "      <td>0.0</td>\n",
              "      <td>9588.0</td>\n",
              "      <td>9588.0</td>\n",
              "      <td>0.03</td>\n",
              "      <td>0.03</td>\n",
              "      <td>0.00</td>\n",
              "      <td>170.0</td>\n",
              "      <td>Moderna, Oxford/AstraZeneca, Pfizer/BioNTech</td>\n",
              "      <td>Government of the United Kingdom</td>\n",
              "      <td>https://coronavirus.data.gov.uk/details/vaccin...</td>\n",
              "      <td>2020</td>\n",
              "      <td>12</td>\n",
              "      <td>9</td>\n",
              "    </tr>\n",
              "    <tr>\n",
              "      <th>8483</th>\n",
              "      <td>England</td>\n",
              "      <td>OWID_ENG</td>\n",
              "      <td>2020-12-10</td>\n",
              "      <td>26714.0</td>\n",
              "      <td>26714.0</td>\n",
              "      <td>0.0</td>\n",
              "      <td>11824.0</td>\n",
              "      <td>10706.0</td>\n",
              "      <td>0.05</td>\n",
              "      <td>0.05</td>\n",
              "      <td>0.00</td>\n",
              "      <td>190.0</td>\n",
              "      <td>Moderna, Oxford/AstraZeneca, Pfizer/BioNTech</td>\n",
              "      <td>Government of the United Kingdom</td>\n",
              "      <td>https://coronavirus.data.gov.uk/details/vaccin...</td>\n",
              "      <td>2020</td>\n",
              "      <td>12</td>\n",
              "      <td>10</td>\n",
              "    </tr>\n",
              "    <tr>\n",
              "      <th>8484</th>\n",
              "      <td>England</td>\n",
              "      <td>OWID_ENG</td>\n",
              "      <td>2020-12-11</td>\n",
              "      <td>39211.0</td>\n",
              "      <td>39211.0</td>\n",
              "      <td>0.0</td>\n",
              "      <td>12497.0</td>\n",
              "      <td>11303.0</td>\n",
              "      <td>0.07</td>\n",
              "      <td>0.07</td>\n",
              "      <td>0.00</td>\n",
              "      <td>201.0</td>\n",
              "      <td>Moderna, Oxford/AstraZeneca, Pfizer/BioNTech</td>\n",
              "      <td>Government of the United Kingdom</td>\n",
              "      <td>https://coronavirus.data.gov.uk/details/vaccin...</td>\n",
              "      <td>2020</td>\n",
              "      <td>12</td>\n",
              "      <td>11</td>\n",
              "    </tr>\n",
              "    <tr>\n",
              "      <th>8485</th>\n",
              "      <td>England</td>\n",
              "      <td>OWID_ENG</td>\n",
              "      <td>2020-12-12</td>\n",
              "      <td>49788.0</td>\n",
              "      <td>49788.0</td>\n",
              "      <td>0.0</td>\n",
              "      <td>10577.0</td>\n",
              "      <td>11122.0</td>\n",
              "      <td>0.09</td>\n",
              "      <td>0.09</td>\n",
              "      <td>0.00</td>\n",
              "      <td>198.0</td>\n",
              "      <td>Moderna, Oxford/AstraZeneca, Pfizer/BioNTech</td>\n",
              "      <td>Government of the United Kingdom</td>\n",
              "      <td>https://coronavirus.data.gov.uk/details/vaccin...</td>\n",
              "      <td>2020</td>\n",
              "      <td>12</td>\n",
              "      <td>12</td>\n",
              "    </tr>\n",
              "    <tr>\n",
              "      <th>...</th>\n",
              "      <td>...</td>\n",
              "      <td>...</td>\n",
              "      <td>...</td>\n",
              "      <td>...</td>\n",
              "      <td>...</td>\n",
              "      <td>...</td>\n",
              "      <td>...</td>\n",
              "      <td>...</td>\n",
              "      <td>...</td>\n",
              "      <td>...</td>\n",
              "      <td>...</td>\n",
              "      <td>...</td>\n",
              "      <td>...</td>\n",
              "      <td>...</td>\n",
              "      <td>...</td>\n",
              "      <td>...</td>\n",
              "      <td>...</td>\n",
              "      <td>...</td>\n",
              "    </tr>\n",
              "    <tr>\n",
              "      <th>8698</th>\n",
              "      <td>England</td>\n",
              "      <td>OWID_ENG</td>\n",
              "      <td>2021-07-13</td>\n",
              "      <td>68053161.0</td>\n",
              "      <td>38624143.0</td>\n",
              "      <td>29429018.0</td>\n",
              "      <td>174661.0</td>\n",
              "      <td>190302.0</td>\n",
              "      <td>120.90</td>\n",
              "      <td>68.62</td>\n",
              "      <td>52.28</td>\n",
              "      <td>3381.0</td>\n",
              "      <td>Moderna, Oxford/AstraZeneca, Pfizer/BioNTech</td>\n",
              "      <td>Government of the United Kingdom</td>\n",
              "      <td>https://coronavirus.data.gov.uk/details/vaccin...</td>\n",
              "      <td>2021</td>\n",
              "      <td>7</td>\n",
              "      <td>13</td>\n",
              "    </tr>\n",
              "    <tr>\n",
              "      <th>8699</th>\n",
              "      <td>England</td>\n",
              "      <td>OWID_ENG</td>\n",
              "      <td>2021-07-14</td>\n",
              "      <td>68254501.0</td>\n",
              "      <td>38674148.0</td>\n",
              "      <td>29580353.0</td>\n",
              "      <td>201340.0</td>\n",
              "      <td>190344.0</td>\n",
              "      <td>121.26</td>\n",
              "      <td>68.71</td>\n",
              "      <td>52.55</td>\n",
              "      <td>3382.0</td>\n",
              "      <td>Moderna, Oxford/AstraZeneca, Pfizer/BioNTech</td>\n",
              "      <td>Government of the United Kingdom</td>\n",
              "      <td>https://coronavirus.data.gov.uk/details/vaccin...</td>\n",
              "      <td>2021</td>\n",
              "      <td>7</td>\n",
              "      <td>14</td>\n",
              "    </tr>\n",
              "    <tr>\n",
              "      <th>8700</th>\n",
              "      <td>England</td>\n",
              "      <td>OWID_ENG</td>\n",
              "      <td>2021-07-15</td>\n",
              "      <td>68474146.0</td>\n",
              "      <td>38726641.0</td>\n",
              "      <td>29747505.0</td>\n",
              "      <td>219645.0</td>\n",
              "      <td>190542.0</td>\n",
              "      <td>121.65</td>\n",
              "      <td>68.80</td>\n",
              "      <td>52.85</td>\n",
              "      <td>3385.0</td>\n",
              "      <td>Moderna, Oxford/AstraZeneca, Pfizer/BioNTech</td>\n",
              "      <td>Government of the United Kingdom</td>\n",
              "      <td>https://coronavirus.data.gov.uk/details/vaccin...</td>\n",
              "      <td>2021</td>\n",
              "      <td>7</td>\n",
              "      <td>15</td>\n",
              "    </tr>\n",
              "    <tr>\n",
              "      <th>8701</th>\n",
              "      <td>England</td>\n",
              "      <td>OWID_ENG</td>\n",
              "      <td>2021-07-16</td>\n",
              "      <td>68688329.0</td>\n",
              "      <td>38776888.0</td>\n",
              "      <td>29911441.0</td>\n",
              "      <td>214183.0</td>\n",
              "      <td>189488.0</td>\n",
              "      <td>122.03</td>\n",
              "      <td>68.89</td>\n",
              "      <td>53.14</td>\n",
              "      <td>3366.0</td>\n",
              "      <td>Moderna, Oxford/AstraZeneca, Pfizer/BioNTech</td>\n",
              "      <td>Government of the United Kingdom</td>\n",
              "      <td>https://coronavirus.data.gov.uk/details/vaccin...</td>\n",
              "      <td>2021</td>\n",
              "      <td>7</td>\n",
              "      <td>16</td>\n",
              "    </tr>\n",
              "    <tr>\n",
              "      <th>8702</th>\n",
              "      <td>England</td>\n",
              "      <td>OWID_ENG</td>\n",
              "      <td>2021-07-17</td>\n",
              "      <td>68944019.0</td>\n",
              "      <td>38836156.0</td>\n",
              "      <td>30107863.0</td>\n",
              "      <td>255690.0</td>\n",
              "      <td>189316.0</td>\n",
              "      <td>122.49</td>\n",
              "      <td>69.00</td>\n",
              "      <td>53.49</td>\n",
              "      <td>3363.0</td>\n",
              "      <td>Moderna, Oxford/AstraZeneca, Pfizer/BioNTech</td>\n",
              "      <td>Government of the United Kingdom</td>\n",
              "      <td>https://coronavirus.data.gov.uk/details/vaccin...</td>\n",
              "      <td>2021</td>\n",
              "      <td>7</td>\n",
              "      <td>17</td>\n",
              "    </tr>\n",
              "  </tbody>\n",
              "</table>\n",
              "<p>222 rows × 18 columns</p>\n",
              "</div>"
            ],
            "text/plain": [
              "      country  iso_code       date  ...  year  month  day\n",
              "8481  England  OWID_ENG 2020-12-08  ...  2020     12    8\n",
              "8482  England  OWID_ENG 2020-12-09  ...  2020     12    9\n",
              "8483  England  OWID_ENG 2020-12-10  ...  2020     12   10\n",
              "8484  England  OWID_ENG 2020-12-11  ...  2020     12   11\n",
              "8485  England  OWID_ENG 2020-12-12  ...  2020     12   12\n",
              "...       ...       ...        ...  ...   ...    ...  ...\n",
              "8698  England  OWID_ENG 2021-07-13  ...  2021      7   13\n",
              "8699  England  OWID_ENG 2021-07-14  ...  2021      7   14\n",
              "8700  England  OWID_ENG 2021-07-15  ...  2021      7   15\n",
              "8701  England  OWID_ENG 2021-07-16  ...  2021      7   16\n",
              "8702  England  OWID_ENG 2021-07-17  ...  2021      7   17\n",
              "\n",
              "[222 rows x 18 columns]"
            ]
          },
          "execution_count": 73,
          "metadata": {
            "tags": []
          },
          "output_type": "execute_result"
        }
      ],
      "source": [
        "england_df = vaccinations_df[vaccinations_df['country'] == 'England']\n",
        "england_df"
      ]
    },
    {
      "cell_type": "code",
      "execution_count": null,
      "metadata": {
        "colab": {
          "base_uri": "https://localhost:8080/"
        },
        "execution": {
          "iopub.execute_input": "2021-07-19T07:47:03.422784Z",
          "iopub.status.busy": "2021-07-19T07:47:03.422274Z",
          "iopub.status.idle": "2021-07-19T07:47:03.439429Z",
          "shell.execute_reply": "2021-07-19T07:47:03.438327Z",
          "shell.execute_reply.started": "2021-07-19T07:47:03.422731Z"
        },
        "id": "xmsr-Q6ZKFKA",
        "outputId": "15644671-51f1-4c67-82e1-c4b85e1abbd5",
        "trusted": true
      },
      "outputs": [
        {
          "name": "stdout",
          "output_type": "stream",
          "text": [
            "<class 'pandas.core.frame.DataFrame'>\n",
            "Int64Index: 222 entries, 8481 to 8702\n",
            "Data columns (total 18 columns):\n",
            " #   Column                               Non-Null Count  Dtype         \n",
            "---  ------                               --------------  -----         \n",
            " 0   country                              222 non-null    object        \n",
            " 1   iso_code                             222 non-null    object        \n",
            " 2   date                                 222 non-null    datetime64[ns]\n",
            " 3   total_vaccinations                   222 non-null    float64       \n",
            " 4   people_vaccinated                    222 non-null    float64       \n",
            " 5   people_fully_vaccinated              222 non-null    float64       \n",
            " 6   daily_vaccinations_raw               222 non-null    float64       \n",
            " 7   daily_vaccinations                   222 non-null    float64       \n",
            " 8   total_vaccinations_per_hundred       222 non-null    float64       \n",
            " 9   people_vaccinated_per_hundred        222 non-null    float64       \n",
            " 10  people_fully_vaccinated_per_hundred  222 non-null    float64       \n",
            " 11  daily_vaccinations_per_million       222 non-null    float64       \n",
            " 12  vaccines                             222 non-null    object        \n",
            " 13  source_name                          222 non-null    object        \n",
            " 14  source_website                       222 non-null    object        \n",
            " 15  year                                 222 non-null    int64         \n",
            " 16  month                                222 non-null    int64         \n",
            " 17  day                                  222 non-null    int64         \n",
            "dtypes: datetime64[ns](1), float64(9), int64(3), object(5)\n",
            "memory usage: 33.0+ KB\n"
          ]
        }
      ],
      "source": [
        "england_df.info()"
      ]
    },
    {
      "cell_type": "code",
      "execution_count": null,
      "metadata": {
        "colab": {
          "base_uri": "https://localhost:8080/"
        },
        "execution": {
          "iopub.execute_input": "2021-07-19T07:47:03.441201Z",
          "iopub.status.busy": "2021-07-19T07:47:03.440794Z",
          "iopub.status.idle": "2021-07-19T07:47:03.453451Z",
          "shell.execute_reply": "2021-07-19T07:47:03.452317Z",
          "shell.execute_reply.started": "2021-07-19T07:47:03.441156Z"
        },
        "id": "qRYCrcazUYt1",
        "outputId": "bd7f9f47-d1ab-4d2d-dc19-bf7a31c37e0b",
        "trusted": true
      },
      "outputs": [
        {
          "data": {
            "text/plain": [
              "67906599.0"
            ]
          },
          "execution_count": 75,
          "metadata": {
            "tags": []
          },
          "output_type": "execute_result"
        }
      ],
      "source": [
        "england_df.daily_vaccinations_raw.sum()"
      ]
    },
    {
      "cell_type": "code",
      "execution_count": null,
      "metadata": {
        "colab": {
          "base_uri": "https://localhost:8080/",
          "height": 621
        },
        "execution": {
          "iopub.execute_input": "2021-07-19T07:47:03.455390Z",
          "iopub.status.busy": "2021-07-19T07:47:03.455019Z",
          "iopub.status.idle": "2021-07-19T07:47:03.846806Z",
          "shell.execute_reply": "2021-07-19T07:47:03.845568Z",
          "shell.execute_reply.started": "2021-07-19T07:47:03.455356Z"
        },
        "id": "FNalt4eEKFKA",
        "outputId": "f0912a40-3f86-4ed4-a7cf-9a5293114b29",
        "trusted": true
      },
      "outputs": [
        {
          "data": {
            "image/png": "[encoded data removed]",
            "text/plain": [
              "<Figure size 1440x720 with 1 Axes>"
            ]
          },
          "metadata": {
            "needs_background": "light",
            "tags": []
          },
          "output_type": "display_data"
        }
      ],
      "source": [
        "plt.figure(figsize=(20,10))\n",
        "sns.lineplot(x=england_df.date, y=england_df.daily_vaccinations_raw)\n",
        "plt.xlabel(\"Date\")\n",
        "plt.ylabel(\"Daily_Vaccination\")\n",
        "plt.title('How many people daily vaccinated in England?');"
      ]
    },
    {
      "cell_type": "markdown",
      "metadata": {
        "id": "TKGTtPJMKFKA"
      },
      "source": [
        "#### Q4: How many people take at least one dose of vaccine in England?"
      ]
    },
    {
      "cell_type": "code",
      "execution_count": null,
      "metadata": {
        "execution": {
          "iopub.execute_input": "2021-07-19T07:47:03.849180Z",
          "iopub.status.busy": "2021-07-19T07:47:03.848580Z",
          "iopub.status.idle": "2021-07-19T07:47:03.854820Z",
          "shell.execute_reply": "2021-07-19T07:47:03.853883Z",
          "shell.execute_reply.started": "2021-07-19T07:47:03.849141Z"
        },
        "id": "cxl4pfNOKFKA",
        "trusted": true
      },
      "outputs": [],
      "source": [
        "total_vaccinated_bd = england_df.total_vaccinations.max()/1000000"
      ]
    },
    {
      "cell_type": "code",
      "execution_count": null,
      "metadata": {
        "colab": {
          "base_uri": "https://localhost:8080/"
        },
        "execution": {
          "iopub.execute_input": "2021-07-19T07:47:03.856136Z",
          "iopub.status.busy": "2021-07-19T07:47:03.855840Z",
          "iopub.status.idle": "2021-07-19T07:47:03.869671Z",
          "shell.execute_reply": "2021-07-19T07:47:03.868537Z",
          "shell.execute_reply.started": "2021-07-19T07:47:03.856108Z"
        },
        "id": "-Jadg7RTKFKA",
        "outputId": "096b8a2d-9e55-48a4-cab3-83b8afde259e",
        "trusted": true
      },
      "outputs": [
        {
          "name": "stdout",
          "output_type": "stream",
          "text": [
            "68.94 M people take at least one dose of vaccine in England.\n"
          ]
        }
      ],
      "source": [
        "print(\"{0:.2f} M people take at least one dose of vaccine in England.\".format(total_vaccinated_bd))"
      ]
    },
    {
      "cell_type": "markdown",
      "metadata": {
        "id": "0swBzPU1UYt2"
      },
      "source": [
        "#### Q5: How many people total fully vaccinated in England?"
      ]
    },
    {
      "cell_type": "code",
      "execution_count": null,
      "metadata": {
        "execution": {
          "iopub.execute_input": "2021-07-19T07:47:03.871399Z",
          "iopub.status.busy": "2021-07-19T07:47:03.871044Z",
          "iopub.status.idle": "2021-07-19T07:47:03.887170Z",
          "shell.execute_reply": "2021-07-19T07:47:03.886291Z",
          "shell.execute_reply.started": "2021-07-19T07:47:03.871367Z"
        },
        "id": "0Bxjm6VRUYt2",
        "trusted": true
      },
      "outputs": [],
      "source": [
        "fully_vaccinated_bd = england_df.people_fully_vaccinated.max()/1000000"
      ]
    },
    {
      "cell_type": "code",
      "execution_count": null,
      "metadata": {
        "colab": {
          "base_uri": "https://localhost:8080/"
        },
        "execution": {
          "iopub.execute_input": "2021-07-19T07:47:03.888753Z",
          "iopub.status.busy": "2021-07-19T07:47:03.888310Z",
          "iopub.status.idle": "2021-07-19T07:47:03.902230Z",
          "shell.execute_reply": "2021-07-19T07:47:03.901023Z",
          "shell.execute_reply.started": "2021-07-19T07:47:03.888687Z"
        },
        "id": "sgBmOfKSUYt2",
        "outputId": "73ebeff2-ad38-47ba-be9d-a0d84fa8dafe",
        "trusted": true
      },
      "outputs": [
        {
          "name": "stdout",
          "output_type": "stream",
          "text": [
            "Total fully vaccinated people in England: 30.11M\n"
          ]
        }
      ],
      "source": [
        "print(\"Total fully vaccinated people in England: {0:.2f}M\".format(fully_vaccinated_bd))"
      ]
    },
    {
      "cell_type": "markdown",
      "metadata": {
        "id": "xa5X2ncMKFKD"
      },
      "source": [
        "#### Q6: What is the country that vaccinated completely most of the population?"
      ]
    },
    {
      "cell_type": "code",
      "execution_count": null,
      "metadata": {
        "execution": {
          "iopub.execute_input": "2021-07-19T07:47:03.904225Z",
          "iopub.status.busy": "2021-07-19T07:47:03.903861Z",
          "iopub.status.idle": "2021-07-19T07:47:03.921737Z",
          "shell.execute_reply": "2021-07-19T07:47:03.920341Z",
          "shell.execute_reply.started": "2021-07-19T07:47:03.904193Z"
        },
        "id": "oxr99NbdKFKD",
        "trusted": true
      },
      "outputs": [],
      "source": [
        "population_country=vaccinations_df.groupby('country')['total_vaccinations_per_hundred'].max().sort_values(ascending=False).head(15)"
      ]
    },
    {
      "cell_type": "code",
      "execution_count": null,
      "metadata": {
        "colab": {
          "base_uri": "https://localhost:8080/",
          "height": 510
        },
        "execution": {
          "iopub.execute_input": "2021-07-19T07:47:03.923939Z",
          "iopub.status.busy": "2021-07-19T07:47:03.923445Z",
          "iopub.status.idle": "2021-07-19T07:47:03.940189Z",
          "shell.execute_reply": "2021-07-19T07:47:03.939290Z",
          "shell.execute_reply.started": "2021-07-19T07:47:03.923901Z"
        },
        "id": "Sp5oRWtnKFKD",
        "outputId": "754df2d0-531a-4bb5-e536-0cf07fd3ab13",
        "trusted": true
      },
      "outputs": [
        {
          "data": {
            "text/html": [
              "<div>\n",
              "<style scoped>\n",
              "    .dataframe tbody tr th:only-of-type {\n",
              "        vertical-align: middle;\n",
              "    }\n",
              "\n",
              "    .dataframe tbody tr th {\n",
              "        vertical-align: top;\n",
              "    }\n",
              "\n",
              "    .dataframe thead th {\n",
              "        text-align: right;\n",
              "    }\n",
              "</style>\n",
              "<table border=\"1\" class=\"dataframe\">\n",
              "  <thead>\n",
              "    <tr style=\"text-align: right;\">\n",
              "      <th></th>\n",
              "      <th>country</th>\n",
              "      <th>total_vaccinations_per_hundred</th>\n",
              "    </tr>\n",
              "  </thead>\n",
              "  <tbody>\n",
              "    <tr>\n",
              "      <th>0</th>\n",
              "      <td>Gibraltar</td>\n",
              "      <td>232.35</td>\n",
              "    </tr>\n",
              "    <tr>\n",
              "      <th>1</th>\n",
              "      <td>United Arab Emirates</td>\n",
              "      <td>165.40</td>\n",
              "    </tr>\n",
              "    <tr>\n",
              "      <th>2</th>\n",
              "      <td>Malta</td>\n",
              "      <td>163.81</td>\n",
              "    </tr>\n",
              "    <tr>\n",
              "      <th>3</th>\n",
              "      <td>Cayman Islands</td>\n",
              "      <td>145.31</td>\n",
              "    </tr>\n",
              "    <tr>\n",
              "      <th>4</th>\n",
              "      <td>Seychelles</td>\n",
              "      <td>141.98</td>\n",
              "    </tr>\n",
              "    <tr>\n",
              "      <th>5</th>\n",
              "      <td>Isle of Man</td>\n",
              "      <td>139.35</td>\n",
              "    </tr>\n",
              "    <tr>\n",
              "      <th>6</th>\n",
              "      <td>Iceland</td>\n",
              "      <td>136.68</td>\n",
              "    </tr>\n",
              "    <tr>\n",
              "      <th>7</th>\n",
              "      <td>Wales</td>\n",
              "      <td>133.21</td>\n",
              "    </tr>\n",
              "    <tr>\n",
              "      <th>8</th>\n",
              "      <td>San Marino</td>\n",
              "      <td>132.74</td>\n",
              "    </tr>\n",
              "    <tr>\n",
              "      <th>9</th>\n",
              "      <td>Guernsey</td>\n",
              "      <td>132.65</td>\n",
              "    </tr>\n",
              "    <tr>\n",
              "      <th>10</th>\n",
              "      <td>Bermuda</td>\n",
              "      <td>131.76</td>\n",
              "    </tr>\n",
              "    <tr>\n",
              "      <th>11</th>\n",
              "      <td>Bahrain</td>\n",
              "      <td>131.73</td>\n",
              "    </tr>\n",
              "    <tr>\n",
              "      <th>12</th>\n",
              "      <td>Saint Helena</td>\n",
              "      <td>130.00</td>\n",
              "    </tr>\n",
              "    <tr>\n",
              "      <th>13</th>\n",
              "      <td>Uruguay</td>\n",
              "      <td>129.91</td>\n",
              "    </tr>\n",
              "    <tr>\n",
              "      <th>14</th>\n",
              "      <td>Jersey</td>\n",
              "      <td>129.40</td>\n",
              "    </tr>\n",
              "  </tbody>\n",
              "</table>\n",
              "</div>"
            ],
            "text/plain": [
              "                 country  total_vaccinations_per_hundred\n",
              "0              Gibraltar                          232.35\n",
              "1   United Arab Emirates                          165.40\n",
              "2                  Malta                          163.81\n",
              "3         Cayman Islands                          145.31\n",
              "4             Seychelles                          141.98\n",
              "5            Isle of Man                          139.35\n",
              "6                Iceland                          136.68\n",
              "7                  Wales                          133.21\n",
              "8             San Marino                          132.74\n",
              "9               Guernsey                          132.65\n",
              "10               Bermuda                          131.76\n",
              "11               Bahrain                          131.73\n",
              "12          Saint Helena                          130.00\n",
              "13               Uruguay                          129.91\n",
              "14                Jersey                          129.40"
            ]
          },
          "execution_count": 82,
          "metadata": {
            "tags": []
          },
          "output_type": "execute_result"
        }
      ],
      "source": [
        "population_country.reset_index()"
      ]
    },
    {
      "cell_type": "code",
      "execution_count": null,
      "metadata": {
        "colab": {
          "base_uri": "https://localhost:8080/",
          "height": 513
        },
        "execution": {
          "iopub.execute_input": "2021-07-19T07:47:03.941908Z",
          "iopub.status.busy": "2021-07-19T07:47:03.941563Z",
          "iopub.status.idle": "2021-07-19T07:47:04.338025Z",
          "shell.execute_reply": "2021-07-19T07:47:04.337223Z",
          "shell.execute_reply.started": "2021-07-19T07:47:03.941873Z"
        },
        "id": "4QdJeIOVKFKD",
        "outputId": "73b3b3b1-5907-4605-be00-9ea2dc74e321",
        "trusted": true
      },
      "outputs": [
        {
          "data": {
            "image/png": "[encoded data removed]",
            "text/plain": [
              "<Figure size 1080x576 with 1 Axes>"
            ]
          },
          "metadata": {
            "needs_background": "light",
            "tags": []
          },
          "output_type": "display_data"
        }
      ],
      "source": [
        "plt.figure(figsize= (15, 8))\n",
        "ax = sns.barplot(x=population_country, y=population_country.index)\n",
        "plt.title('Total Vaccinations / Population')\n",
        "plt.xlabel('Total Vaccinations')\n",
        "plt.ylabel('Country')\n",
        "\n",
        "for patch in ax.patches:\n",
        "    width = patch.get_width()\n",
        "    height = patch.get_height()\n",
        "    x = patch.get_x()\n",
        "    y = patch.get_y()\n",
        "    \n",
        "    plt.text(width + x, height + y, '{:.1f} %'.format(width))"
      ]
    },
    {
      "cell_type": "markdown",
      "metadata": {
        "id": "9-waIEwJ7_vf"
      },
      "source": [
        "#### Q7: Which are the top 25 countries which have vaccinted most number of its people ? "
      ]
    },
    {
      "cell_type": "code",
      "execution_count": null,
      "metadata": {
        "id": "3fCJctR0z1g-"
      },
      "outputs": [],
      "source": [
        "people_vaccinated = vaccinations_df.groupby(\"country\")[\"people_vaccinated\"].max().sort_values(ascending= False).head(25)"
      ]
    },
    {
      "cell_type": "code",
      "execution_count": null,
      "metadata": {
        "colab": {
          "base_uri": "https://localhost:8080/",
          "height": 817
        },
        "id": "u_CrSpz_2pPQ",
        "outputId": "2e22a22a-eed6-4139-fbd8-f41a23f8b8ac"
      },
      "outputs": [
        {
          "data": {
            "text/html": [
              "<div>\n",
              "<style scoped>\n",
              "    .dataframe tbody tr th:only-of-type {\n",
              "        vertical-align: middle;\n",
              "    }\n",
              "\n",
              "    .dataframe tbody tr th {\n",
              "        vertical-align: top;\n",
              "    }\n",
              "\n",
              "    .dataframe thead th {\n",
              "        text-align: right;\n",
              "    }\n",
              "</style>\n",
              "<table border=\"1\" class=\"dataframe\">\n",
              "  <thead>\n",
              "    <tr style=\"text-align: right;\">\n",
              "      <th></th>\n",
              "      <th>country</th>\n",
              "      <th>people_vaccinated</th>\n",
              "    </tr>\n",
              "  </thead>\n",
              "  <tbody>\n",
              "    <tr>\n",
              "      <th>0</th>\n",
              "      <td>China</td>\n",
              "      <td>622000000.0</td>\n",
              "    </tr>\n",
              "    <tr>\n",
              "      <th>1</th>\n",
              "      <td>India</td>\n",
              "      <td>321893762.0</td>\n",
              "    </tr>\n",
              "    <tr>\n",
              "      <th>2</th>\n",
              "      <td>United States</td>\n",
              "      <td>186038501.0</td>\n",
              "    </tr>\n",
              "    <tr>\n",
              "      <th>3</th>\n",
              "      <td>Brazil</td>\n",
              "      <td>94082186.0</td>\n",
              "    </tr>\n",
              "    <tr>\n",
              "      <th>4</th>\n",
              "      <td>Germany</td>\n",
              "      <td>49632810.0</td>\n",
              "    </tr>\n",
              "    <tr>\n",
              "      <th>5</th>\n",
              "      <td>United Kingdom</td>\n",
              "      <td>46295853.0</td>\n",
              "    </tr>\n",
              "    <tr>\n",
              "      <th>6</th>\n",
              "      <td>Japan</td>\n",
              "      <td>42640078.0</td>\n",
              "    </tr>\n",
              "    <tr>\n",
              "      <th>7</th>\n",
              "      <td>Indonesia</td>\n",
              "      <td>41673464.0</td>\n",
              "    </tr>\n",
              "    <tr>\n",
              "      <th>8</th>\n",
              "      <td>Turkey</td>\n",
              "      <td>38965125.0</td>\n",
              "    </tr>\n",
              "    <tr>\n",
              "      <th>9</th>\n",
              "      <td>England</td>\n",
              "      <td>38836156.0</td>\n",
              "    </tr>\n",
              "    <tr>\n",
              "      <th>10</th>\n",
              "      <td>Mexico</td>\n",
              "      <td>38029139.0</td>\n",
              "    </tr>\n",
              "    <tr>\n",
              "      <th>11</th>\n",
              "      <td>France</td>\n",
              "      <td>36766279.0</td>\n",
              "    </tr>\n",
              "    <tr>\n",
              "      <th>12</th>\n",
              "      <td>Italy</td>\n",
              "      <td>36515332.0</td>\n",
              "    </tr>\n",
              "    <tr>\n",
              "      <th>13</th>\n",
              "      <td>Russia</td>\n",
              "      <td>32086928.0</td>\n",
              "    </tr>\n",
              "    <tr>\n",
              "      <th>14</th>\n",
              "      <td>Spain</td>\n",
              "      <td>29033376.0</td>\n",
              "    </tr>\n",
              "    <tr>\n",
              "      <th>15</th>\n",
              "      <td>Canada</td>\n",
              "      <td>26495816.0</td>\n",
              "    </tr>\n",
              "    <tr>\n",
              "      <th>16</th>\n",
              "      <td>Argentina</td>\n",
              "      <td>21839491.0</td>\n",
              "    </tr>\n",
              "    <tr>\n",
              "      <th>17</th>\n",
              "      <td>Saudi Arabia</td>\n",
              "      <td>18441597.0</td>\n",
              "    </tr>\n",
              "    <tr>\n",
              "      <th>18</th>\n",
              "      <td>Poland</td>\n",
              "      <td>17742406.0</td>\n",
              "    </tr>\n",
              "    <tr>\n",
              "      <th>19</th>\n",
              "      <td>South Korea</td>\n",
              "      <td>16133084.0</td>\n",
              "    </tr>\n",
              "    <tr>\n",
              "      <th>20</th>\n",
              "      <td>Colombia</td>\n",
              "      <td>14963437.0</td>\n",
              "    </tr>\n",
              "    <tr>\n",
              "      <th>21</th>\n",
              "      <td>Chile</td>\n",
              "      <td>13507561.0</td>\n",
              "    </tr>\n",
              "    <tr>\n",
              "      <th>22</th>\n",
              "      <td>Netherlands</td>\n",
              "      <td>11598738.0</td>\n",
              "    </tr>\n",
              "    <tr>\n",
              "      <th>23</th>\n",
              "      <td>Morocco</td>\n",
              "      <td>11219675.0</td>\n",
              "    </tr>\n",
              "    <tr>\n",
              "      <th>24</th>\n",
              "      <td>Thailand</td>\n",
              "      <td>10780762.0</td>\n",
              "    </tr>\n",
              "  </tbody>\n",
              "</table>\n",
              "</div>"
            ],
            "text/plain": [
              "           country  people_vaccinated\n",
              "0            China        622000000.0\n",
              "1            India        321893762.0\n",
              "2    United States        186038501.0\n",
              "3           Brazil         94082186.0\n",
              "4          Germany         49632810.0\n",
              "5   United Kingdom         46295853.0\n",
              "6            Japan         42640078.0\n",
              "7        Indonesia         41673464.0\n",
              "8           Turkey         38965125.0\n",
              "9          England         38836156.0\n",
              "10          Mexico         38029139.0\n",
              "11          France         36766279.0\n",
              "12           Italy         36515332.0\n",
              "13          Russia         32086928.0\n",
              "14           Spain         29033376.0\n",
              "15          Canada         26495816.0\n",
              "16       Argentina         21839491.0\n",
              "17    Saudi Arabia         18441597.0\n",
              "18          Poland         17742406.0\n",
              "19     South Korea         16133084.0\n",
              "20        Colombia         14963437.0\n",
              "21           Chile         13507561.0\n",
              "22     Netherlands         11598738.0\n",
              "23         Morocco         11219675.0\n",
              "24        Thailand         10780762.0"
            ]
          },
          "execution_count": 85,
          "metadata": {
            "tags": []
          },
          "output_type": "execute_result"
        }
      ],
      "source": [
        "people_vaccinated.reset_index()"
      ]
    },
    {
      "cell_type": "code",
      "execution_count": null,
      "metadata": {
        "colab": {
          "base_uri": "https://localhost:8080/",
          "height": 513
        },
        "id": "txUTZhmO2x0S",
        "outputId": "494cafd2-7269-48de-ff1b-92259ef7e011"
      },
      "outputs": [
        {
          "data": {
            "image/png": "[encoded data removed]",
            "text/plain": [
              "<Figure size 864x576 with 1 Axes>"
            ]
          },
          "metadata": {
            "needs_background": "light",
            "tags": []
          },
          "output_type": "display_data"
        }
      ],
      "source": [
        "plt.figure(figsize=(12,8))\n",
        "ax = sns.barplot(x=people_vaccinated, y=people_vaccinated.index )\n",
        "plt.xlabel(\"Vaccinated in 100 million \")\n",
        "plt.ylabel(\"Country\")\n",
        "plt.title(\"COVID-19 vaccine doses vaccinated to people \");\n",
        "\n",
        "for patch in ax.patches:\n",
        "    width = patch.get_width()\n",
        "    height = patch.get_height()\n",
        "    x = patch.get_x()\n",
        "    y = patch.get_y()\n",
        "    \n",
        "    plt.text(width + x, height + y, '{:.1f} '.format(width))"
      ]
    },
    {
      "cell_type": "markdown",
      "metadata": {
        "id": "Ajy3wZ-oro-V"
      },
      "source": [
        "#### Q.8 Find in which month there were maximum vaccination in any country ?"
      ]
    },
    {
      "cell_type": "code",
      "execution_count": null,
      "metadata": {
        "colab": {
          "base_uri": "https://localhost:8080/",
          "height": 770
        },
        "id": "P85c_em48U_K",
        "outputId": "8fe16243-ea0a-44c4-cd1e-76201fa60269"
      },
      "outputs": [
        {
          "data": {
            "text/html": [
              "<div>\n",
              "<style scoped>\n",
              "    .dataframe tbody tr th:only-of-type {\n",
              "        vertical-align: middle;\n",
              "    }\n",
              "\n",
              "    .dataframe tbody tr th {\n",
              "        vertical-align: top;\n",
              "    }\n",
              "\n",
              "    .dataframe thead th {\n",
              "        text-align: right;\n",
              "    }\n",
              "</style>\n",
              "<table border=\"1\" class=\"dataframe\">\n",
              "  <thead>\n",
              "    <tr style=\"text-align: right;\">\n",
              "      <th></th>\n",
              "      <th>country</th>\n",
              "      <th>iso_code</th>\n",
              "      <th>date</th>\n",
              "      <th>total_vaccinations</th>\n",
              "      <th>people_vaccinated</th>\n",
              "      <th>people_fully_vaccinated</th>\n",
              "      <th>daily_vaccinations_raw</th>\n",
              "      <th>daily_vaccinations</th>\n",
              "      <th>total_vaccinations_per_hundred</th>\n",
              "      <th>people_vaccinated_per_hundred</th>\n",
              "      <th>people_fully_vaccinated_per_hundred</th>\n",
              "      <th>daily_vaccinations_per_million</th>\n",
              "      <th>vaccines</th>\n",
              "      <th>source_name</th>\n",
              "      <th>source_website</th>\n",
              "      <th>year</th>\n",
              "      <th>month</th>\n",
              "      <th>day</th>\n",
              "    </tr>\n",
              "  </thead>\n",
              "  <tbody>\n",
              "    <tr>\n",
              "      <th>12874</th>\n",
              "      <td>India</td>\n",
              "      <td>IND</td>\n",
              "      <td>2021-01-15</td>\n",
              "      <td>0.0</td>\n",
              "      <td>0.0</td>\n",
              "      <td>0.0</td>\n",
              "      <td>0.0</td>\n",
              "      <td>0.0</td>\n",
              "      <td>0.00</td>\n",
              "      <td>0.00</td>\n",
              "      <td>0.00</td>\n",
              "      <td>0.0</td>\n",
              "      <td>Covaxin, Oxford/AstraZeneca, Sputnik V</td>\n",
              "      <td>Government of India</td>\n",
              "      <td>https://www.mohfw.gov.in/</td>\n",
              "      <td>2021</td>\n",
              "      <td>1</td>\n",
              "      <td>15</td>\n",
              "    </tr>\n",
              "    <tr>\n",
              "      <th>12875</th>\n",
              "      <td>India</td>\n",
              "      <td>IND</td>\n",
              "      <td>2021-01-16</td>\n",
              "      <td>191181.0</td>\n",
              "      <td>191181.0</td>\n",
              "      <td>0.0</td>\n",
              "      <td>191181.0</td>\n",
              "      <td>191181.0</td>\n",
              "      <td>0.01</td>\n",
              "      <td>0.01</td>\n",
              "      <td>0.00</td>\n",
              "      <td>139.0</td>\n",
              "      <td>Covaxin, Oxford/AstraZeneca, Sputnik V</td>\n",
              "      <td>Government of India</td>\n",
              "      <td>https://www.mohfw.gov.in/</td>\n",
              "      <td>2021</td>\n",
              "      <td>1</td>\n",
              "      <td>16</td>\n",
              "    </tr>\n",
              "    <tr>\n",
              "      <th>12876</th>\n",
              "      <td>India</td>\n",
              "      <td>IND</td>\n",
              "      <td>2021-01-17</td>\n",
              "      <td>224301.0</td>\n",
              "      <td>224301.0</td>\n",
              "      <td>0.0</td>\n",
              "      <td>33120.0</td>\n",
              "      <td>112150.0</td>\n",
              "      <td>0.02</td>\n",
              "      <td>0.02</td>\n",
              "      <td>0.00</td>\n",
              "      <td>81.0</td>\n",
              "      <td>Covaxin, Oxford/AstraZeneca, Sputnik V</td>\n",
              "      <td>Government of India</td>\n",
              "      <td>https://www.mohfw.gov.in/</td>\n",
              "      <td>2021</td>\n",
              "      <td>1</td>\n",
              "      <td>17</td>\n",
              "    </tr>\n",
              "    <tr>\n",
              "      <th>12877</th>\n",
              "      <td>India</td>\n",
              "      <td>IND</td>\n",
              "      <td>2021-01-18</td>\n",
              "      <td>454049.0</td>\n",
              "      <td>454049.0</td>\n",
              "      <td>0.0</td>\n",
              "      <td>229748.0</td>\n",
              "      <td>151350.0</td>\n",
              "      <td>0.03</td>\n",
              "      <td>0.03</td>\n",
              "      <td>0.00</td>\n",
              "      <td>110.0</td>\n",
              "      <td>Covaxin, Oxford/AstraZeneca, Sputnik V</td>\n",
              "      <td>Government of India</td>\n",
              "      <td>https://www.mohfw.gov.in/</td>\n",
              "      <td>2021</td>\n",
              "      <td>1</td>\n",
              "      <td>18</td>\n",
              "    </tr>\n",
              "    <tr>\n",
              "      <th>12878</th>\n",
              "      <td>India</td>\n",
              "      <td>IND</td>\n",
              "      <td>2021-01-19</td>\n",
              "      <td>674835.0</td>\n",
              "      <td>674835.0</td>\n",
              "      <td>0.0</td>\n",
              "      <td>220786.0</td>\n",
              "      <td>168709.0</td>\n",
              "      <td>0.05</td>\n",
              "      <td>0.05</td>\n",
              "      <td>0.00</td>\n",
              "      <td>122.0</td>\n",
              "      <td>Covaxin, Oxford/AstraZeneca, Sputnik V</td>\n",
              "      <td>Government of India</td>\n",
              "      <td>https://www.mohfw.gov.in/</td>\n",
              "      <td>2021</td>\n",
              "      <td>1</td>\n",
              "      <td>19</td>\n",
              "    </tr>\n",
              "    <tr>\n",
              "      <th>...</th>\n",
              "      <td>...</td>\n",
              "      <td>...</td>\n",
              "      <td>...</td>\n",
              "      <td>...</td>\n",
              "      <td>...</td>\n",
              "      <td>...</td>\n",
              "      <td>...</td>\n",
              "      <td>...</td>\n",
              "      <td>...</td>\n",
              "      <td>...</td>\n",
              "      <td>...</td>\n",
              "      <td>...</td>\n",
              "      <td>...</td>\n",
              "      <td>...</td>\n",
              "      <td>...</td>\n",
              "      <td>...</td>\n",
              "      <td>...</td>\n",
              "      <td>...</td>\n",
              "    </tr>\n",
              "    <tr>\n",
              "      <th>13053</th>\n",
              "      <td>India</td>\n",
              "      <td>IND</td>\n",
              "      <td>2021-07-13</td>\n",
              "      <td>387697935.0</td>\n",
              "      <td>311387539.0</td>\n",
              "      <td>76310396.0</td>\n",
              "      <td>6230289.0</td>\n",
              "      <td>4770041.0</td>\n",
              "      <td>28.09</td>\n",
              "      <td>22.56</td>\n",
              "      <td>5.53</td>\n",
              "      <td>3457.0</td>\n",
              "      <td>Covaxin, Oxford/AstraZeneca, Sputnik V</td>\n",
              "      <td>Government of India</td>\n",
              "      <td>https://www.mohfw.gov.in/</td>\n",
              "      <td>2021</td>\n",
              "      <td>7</td>\n",
              "      <td>13</td>\n",
              "    </tr>\n",
              "    <tr>\n",
              "      <th>13054</th>\n",
              "      <td>India</td>\n",
              "      <td>IND</td>\n",
              "      <td>2021-07-14</td>\n",
              "      <td>391340491.0</td>\n",
              "      <td>313529502.0</td>\n",
              "      <td>77810989.0</td>\n",
              "      <td>3642556.0</td>\n",
              "      <td>4752818.0</td>\n",
              "      <td>28.36</td>\n",
              "      <td>22.72</td>\n",
              "      <td>5.64</td>\n",
              "      <td>3444.0</td>\n",
              "      <td>Covaxin, Oxford/AstraZeneca, Sputnik V</td>\n",
              "      <td>Government of India</td>\n",
              "      <td>https://www.mohfw.gov.in/</td>\n",
              "      <td>2021</td>\n",
              "      <td>7</td>\n",
              "      <td>14</td>\n",
              "    </tr>\n",
              "    <tr>\n",
              "      <th>13055</th>\n",
              "      <td>India</td>\n",
              "      <td>IND</td>\n",
              "      <td>2021-07-15</td>\n",
              "      <td>395343767.0</td>\n",
              "      <td>316116189.0</td>\n",
              "      <td>79227578.0</td>\n",
              "      <td>4003276.0</td>\n",
              "      <td>3764649.0</td>\n",
              "      <td>28.65</td>\n",
              "      <td>22.91</td>\n",
              "      <td>5.74</td>\n",
              "      <td>2728.0</td>\n",
              "      <td>Covaxin, Oxford/AstraZeneca, Sputnik V</td>\n",
              "      <td>Government of India</td>\n",
              "      <td>https://www.mohfw.gov.in/</td>\n",
              "      <td>2021</td>\n",
              "      <td>7</td>\n",
              "      <td>15</td>\n",
              "    </tr>\n",
              "    <tr>\n",
              "      <th>13056</th>\n",
              "      <td>India</td>\n",
              "      <td>IND</td>\n",
              "      <td>2021-07-16</td>\n",
              "      <td>399695879.0</td>\n",
              "      <td>318665226.0</td>\n",
              "      <td>81030653.0</td>\n",
              "      <td>4352112.0</td>\n",
              "      <td>3883425.0</td>\n",
              "      <td>28.96</td>\n",
              "      <td>23.09</td>\n",
              "      <td>5.87</td>\n",
              "      <td>2814.0</td>\n",
              "      <td>Covaxin, Oxford/AstraZeneca, Sputnik V</td>\n",
              "      <td>Government of India</td>\n",
              "      <td>https://www.mohfw.gov.in/</td>\n",
              "      <td>2021</td>\n",
              "      <td>7</td>\n",
              "      <td>16</td>\n",
              "    </tr>\n",
              "    <tr>\n",
              "      <th>13057</th>\n",
              "      <td>India</td>\n",
              "      <td>IND</td>\n",
              "      <td>2021-07-17</td>\n",
              "      <td>404931715.0</td>\n",
              "      <td>321893762.0</td>\n",
              "      <td>83037953.0</td>\n",
              "      <td>5235836.0</td>\n",
              "      <td>4128447.0</td>\n",
              "      <td>29.34</td>\n",
              "      <td>23.33</td>\n",
              "      <td>6.02</td>\n",
              "      <td>2992.0</td>\n",
              "      <td>Covaxin, Oxford/AstraZeneca, Sputnik V</td>\n",
              "      <td>Government of India</td>\n",
              "      <td>https://www.mohfw.gov.in/</td>\n",
              "      <td>2021</td>\n",
              "      <td>7</td>\n",
              "      <td>17</td>\n",
              "    </tr>\n",
              "  </tbody>\n",
              "</table>\n",
              "<p>184 rows × 18 columns</p>\n",
              "</div>"
            ],
            "text/plain": [
              "      country iso_code       date  ...  year  month  day\n",
              "12874   India      IND 2021-01-15  ...  2021      1   15\n",
              "12875   India      IND 2021-01-16  ...  2021      1   16\n",
              "12876   India      IND 2021-01-17  ...  2021      1   17\n",
              "12877   India      IND 2021-01-18  ...  2021      1   18\n",
              "12878   India      IND 2021-01-19  ...  2021      1   19\n",
              "...       ...      ...        ...  ...   ...    ...  ...\n",
              "13053   India      IND 2021-07-13  ...  2021      7   13\n",
              "13054   India      IND 2021-07-14  ...  2021      7   14\n",
              "13055   India      IND 2021-07-15  ...  2021      7   15\n",
              "13056   India      IND 2021-07-16  ...  2021      7   16\n",
              "13057   India      IND 2021-07-17  ...  2021      7   17\n",
              "\n",
              "[184 rows x 18 columns]"
            ]
          },
          "execution_count": 87,
          "metadata": {
            "tags": []
          },
          "output_type": "execute_result"
        }
      ],
      "source": [
        "india_df = vaccinations_df[vaccinations_df['country'] == 'India']\n",
        "india_df"
      ]
    },
    {
      "cell_type": "code",
      "execution_count": null,
      "metadata": {
        "colab": {
          "base_uri": "https://localhost:8080/",
          "height": 294
        },
        "id": "KZVea5dsDd-d",
        "outputId": "2053e0b3-1b82-4f29-f8da-c37411c193fa"
      },
      "outputs": [
        {
          "data": {
            "text/html": [
              "<div>\n",
              "<style scoped>\n",
              "    .dataframe tbody tr th:only-of-type {\n",
              "        vertical-align: middle;\n",
              "    }\n",
              "\n",
              "    .dataframe tbody tr th {\n",
              "        vertical-align: top;\n",
              "    }\n",
              "\n",
              "    .dataframe thead th {\n",
              "        text-align: right;\n",
              "    }\n",
              "</style>\n",
              "<table border=\"1\" class=\"dataframe\">\n",
              "  <thead>\n",
              "    <tr style=\"text-align: right;\">\n",
              "      <th></th>\n",
              "      <th>Monthly_Vaccinations</th>\n",
              "    </tr>\n",
              "    <tr>\n",
              "      <th>month</th>\n",
              "      <th></th>\n",
              "    </tr>\n",
              "  </thead>\n",
              "  <tbody>\n",
              "    <tr>\n",
              "      <th>1</th>\n",
              "      <td>3379485.0</td>\n",
              "    </tr>\n",
              "    <tr>\n",
              "      <th>2</th>\n",
              "      <td>10103631.0</td>\n",
              "    </tr>\n",
              "    <tr>\n",
              "      <th>3</th>\n",
              "      <td>47519159.0</td>\n",
              "    </tr>\n",
              "    <tr>\n",
              "      <th>4</th>\n",
              "      <td>84035890.0</td>\n",
              "    </tr>\n",
              "    <tr>\n",
              "      <th>5</th>\n",
              "      <td>58936437.0</td>\n",
              "    </tr>\n",
              "    <tr>\n",
              "      <th>6</th>\n",
              "      <td>113298089.0</td>\n",
              "    </tr>\n",
              "    <tr>\n",
              "      <th>7</th>\n",
              "      <td>74319564.0</td>\n",
              "    </tr>\n",
              "  </tbody>\n",
              "</table>\n",
              "</div>"
            ],
            "text/plain": [
              "       Monthly_Vaccinations\n",
              "month                      \n",
              "1                 3379485.0\n",
              "2                10103631.0\n",
              "3                47519159.0\n",
              "4                84035890.0\n",
              "5                58936437.0\n",
              "6               113298089.0\n",
              "7                74319564.0"
            ]
          },
          "execution_count": 103,
          "metadata": {
            "tags": []
          },
          "output_type": "execute_result"
        }
      ],
      "source": [
        "months_india = india_df.groupby('month')['daily_vaccinations'].sum()\n",
        "months_india=months_india.to_frame()\n",
        "months_india=months_india.rename(columns={\"daily_vaccinations\":\"Monthly_Vaccinations\"})\n",
        "months_india"
      ]
    },
    {
      "cell_type": "code",
      "execution_count": null,
      "metadata": {
        "colab": {
          "base_uri": "https://localhost:8080/",
          "height": 307
        },
        "id": "4PZiNd_1Ab8t",
        "outputId": "96b43308-7b1f-4172-c610-36fde4963eac"
      },
      "outputs": [
        {
          "data": {
            "text/plain": [
              "<matplotlib.axes._subplots.AxesSubplot at 0x7f0e52b452d0>"
            ]
          },
          "execution_count": 89,
          "metadata": {
            "tags": []
          },
          "output_type": "execute_result"
        },
        {
          "data": {
            "image/png": "[encoded data removed]",
            "text/plain": [
              "<Figure size 432x288 with 1 Axes>"
            ]
          },
          "metadata": {
            "needs_background": "light",
            "tags": []
          },
          "output_type": "display_data"
        }
      ],
      "source": [
        "sns.barplot(x =months_india.index, y =months_india.Monthly_Vaccinations)"
      ]
    }
  ],
  "metadata": {
    "colab": {
      "provenance": []
    },
    "kernelspec": {
      "display_name": "Python 3",
      "language": "python",
      "name": "python3"
    },
    "language_info": {
      "codemirror_mode": {
        "name": "ipython",
        "version": 3
      },
      "file_extension": ".py",
      "mimetype": "text/x-python",
      "name": "python",
      "nbconvert_exporter": "python",
      "pygments_lexer": "ipython3",
      "version": "3.7.10"
    }
  },
  "nbformat": 4,
  "nbformat_minor": 0
}
